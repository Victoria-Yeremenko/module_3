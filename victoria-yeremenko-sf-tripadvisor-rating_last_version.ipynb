{
 "cells": [
  {
   "cell_type": "markdown",
   "metadata": {},
   "source": [
    "![](https://www.pata.org/wp-content/uploads/2014/09/TripAdvisor_Logo-300x119.png)\n",
    "# Predict TripAdvisor Rating\n",
    "\n",
    "\n",
    "## Задача: предсказать рейтинг ресторана в TripAdvisor\n"
   ]
  },
  {
   "cell_type": "markdown",
   "metadata": {},
   "source": [
    "## Импорт библиотек\n"
   ]
  },
  {
   "cell_type": "code",
   "execution_count": 90,
   "metadata": {
    "_cell_guid": "b1076dfc-b9ad-4769-8c92-a6c4dae69d19",
    "_uuid": "8f2839f25d086af736a60e9eeb907d3b93b6e0e5"
   },
   "outputs": [],
   "source": [
    "import numpy as np \n",
    "import pandas as pd \n",
    "\n",
    "import matplotlib.pyplot as plt\n",
    "import seaborn as sns \n",
    "%matplotlib inline\n",
    "\n",
    "# Загружаем специальный удобный инструмент для разделения датасета:\n",
    "from sklearn.model_selection import train_test_split\n",
    "\n",
    "from sklearn.ensemble import RandomForestRegressor \n",
    "from sklearn import metrics\n",
    "from sklearn.preprocessing import StandardScaler\n",
    "# from sklearn.preprocessing import LabelEncoder\n",
    "from collections import Counter\n",
    "import datetime\n",
    "\n",
    "# Input data files are available in the \"../input/\" directory.\n",
    "# For example, running this (by clicking run or pressing Shift+Enter) will list all files under the input directory\n",
    "\n",
    "import os\n",
    "for dirname, _, filenames in os.walk('/kaggle/input'):\n",
    "    for filename in filenames:\n",
    "        print(os.path.join(dirname, filename))\n",
    "\n",
    "import re\n",
    "import math\n",
    "import copy\n",
    "from IPython.display import display\n",
    "pd.options.mode.chained_assignment = None "
   ]
  },
  {
   "cell_type": "code",
   "execution_count": 91,
   "metadata": {},
   "outputs": [],
   "source": [
    "# фиксируем RANDOM_SEED\n",
    "RANDOM_SEED = 42"
   ]
  },
  {
   "cell_type": "code",
   "execution_count": 92,
   "metadata": {},
   "outputs": [],
   "source": [
    "# зафиксируем версию пакетов, чтобы эксперименты были воспроизводимы:\n",
    "!pip freeze > requirements.txt"
   ]
  },
  {
   "cell_type": "markdown",
   "metadata": {},
   "source": [
    "## Импорт данных"
   ]
  },
  {
   "cell_type": "code",
   "execution_count": 93,
   "metadata": {
    "_cell_guid": "79c7e3d0-c299-4dcb-8224-4455121ee9b0",
    "_uuid": "d629ff2d2480ee46fbb7e2d37f6b5fab8052498a"
   },
   "outputs": [],
   "source": [
    "#DATA_DIR = '/kaggle/input/sf-dst-restaurant-rating/'\n",
    "#df_train = pd.read_csv(DATA_DIR+'/main_task.csv')\n",
    "#df_test = pd.read_csv(DATA_DIR+'kaggle_task.csv')\n",
    "#sample_submission = pd.read_csv(DATA_DIR+'/sample_submission.csv')\n",
    "\n",
    "df_train = pd.read_csv('main_task.csv')\n",
    "df_test = pd.read_csv('kaggle_task.csv')\n",
    "sample_submission = pd.read_csv('sample_submission.csv')"
   ]
  },
  {
   "cell_type": "code",
   "execution_count": 94,
   "metadata": {},
   "outputs": [],
   "source": [
    "# ВАЖНО! дря корректной обработки признаков объединяем трейн и тест в один датасет\n",
    "df_train['sample'] = 1 # помечаем где у нас трейн\n",
    "df_test['sample'] = 0 # помечаем где у нас тест\n",
    "df_test['Rating'] = 0 # в тесте у нас нет значения Rating, мы его должны предсказать, по этому пока просто заполняем нулями\n",
    "\n",
    "data = df_test.append(df_train, sort=False).reset_index(drop=True) # объединяем"
   ]
  },
  {
   "cell_type": "markdown",
   "metadata": {},
   "source": [
    "## Разведывательный анализ данных. Очистка данных и генерация новых признаков."
   ]
  },
  {
   "cell_type": "code",
   "execution_count": 95,
   "metadata": {},
   "outputs": [
    {
     "name": "stdout",
     "output_type": "stream",
     "text": [
      "<class 'pandas.core.frame.DataFrame'>\n",
      "RangeIndex: 50000 entries, 0 to 49999\n",
      "Data columns (total 11 columns):\n",
      "Restaurant_id        50000 non-null object\n",
      "City                 50000 non-null object\n",
      "Cuisine Style        38410 non-null object\n",
      "Ranking              50000 non-null float64\n",
      "Price Range          32639 non-null object\n",
      "Number of Reviews    46800 non-null float64\n",
      "Reviews              49998 non-null object\n",
      "URL_TA               50000 non-null object\n",
      "ID_TA                50000 non-null object\n",
      "sample               50000 non-null int64\n",
      "Rating               50000 non-null float64\n",
      "dtypes: float64(3), int64(1), object(7)\n",
      "memory usage: 4.2+ MB\n"
     ]
    }
   ],
   "source": [
    "data.info()"
   ]
  },
  {
   "cell_type": "markdown",
   "metadata": {},
   "source": [
    "### Описание признаков:\n",
    "* City: Город \n",
    "* Cuisine Style: Кухня\n",
    "* Ranking: Ранг ресторана относительно других ресторанов в этом городе\n",
    "* Price Range: Цены в ресторане в 3 категориях\n",
    "* Number of Reviews: Количество отзывов\n",
    "* Reviews: 2 последних отзыва и даты этих отзывов\n",
    "* URL_TA: страница ресторана на 'www.tripadvisor.com' \n",
    "* ID_TA: ID ресторана в TripAdvisor\n",
    "* Rating: Рейтинг ресторана"
   ]
  },
  {
   "cell_type": "code",
   "execution_count": 96,
   "metadata": {},
   "outputs": [
    {
     "data": {
      "text/html": [
       "<div>\n",
       "<style scoped>\n",
       "    .dataframe tbody tr th:only-of-type {\n",
       "        vertical-align: middle;\n",
       "    }\n",
       "\n",
       "    .dataframe tbody tr th {\n",
       "        vertical-align: top;\n",
       "    }\n",
       "\n",
       "    .dataframe thead th {\n",
       "        text-align: right;\n",
       "    }\n",
       "</style>\n",
       "<table border=\"1\" class=\"dataframe\">\n",
       "  <thead>\n",
       "    <tr style=\"text-align: right;\">\n",
       "      <th></th>\n",
       "      <th>Restaurant_id</th>\n",
       "      <th>City</th>\n",
       "      <th>Cuisine Style</th>\n",
       "      <th>Ranking</th>\n",
       "      <th>Price Range</th>\n",
       "      <th>Number of Reviews</th>\n",
       "      <th>Reviews</th>\n",
       "      <th>URL_TA</th>\n",
       "      <th>ID_TA</th>\n",
       "      <th>sample</th>\n",
       "      <th>Rating</th>\n",
       "    </tr>\n",
       "  </thead>\n",
       "  <tbody>\n",
       "    <tr>\n",
       "      <td>5423</td>\n",
       "      <td>id_5423</td>\n",
       "      <td>Barcelona</td>\n",
       "      <td>['Bar', 'European', 'Pub']</td>\n",
       "      <td>2868.0</td>\n",
       "      <td>$$ - $$$</td>\n",
       "      <td>67.0</td>\n",
       "      <td>[['Nice drinks and atmosphere', 'Great place t...</td>\n",
       "      <td>/Restaurant_Review-g187497-d7205452-Reviews-La...</td>\n",
       "      <td>d7205452</td>\n",
       "      <td>0</td>\n",
       "      <td>0.0</td>\n",
       "    </tr>\n",
       "    <tr>\n",
       "      <td>47147</td>\n",
       "      <td>id_1131</td>\n",
       "      <td>Helsinki</td>\n",
       "      <td>['Bar', 'Pub']</td>\n",
       "      <td>1132.0</td>\n",
       "      <td>$$ - $$$</td>\n",
       "      <td>7.0</td>\n",
       "      <td>[['Only reason to go is friends and/or cheap.....</td>\n",
       "      <td>/Restaurant_Review-g189934-d941256-Reviews-Baa...</td>\n",
       "      <td>d941256</td>\n",
       "      <td>1</td>\n",
       "      <td>2.0</td>\n",
       "    </tr>\n",
       "    <tr>\n",
       "      <td>33728</td>\n",
       "      <td>id_905</td>\n",
       "      <td>Lisbon</td>\n",
       "      <td>['American', 'Cafe', 'European', 'Vegetarian F...</td>\n",
       "      <td>906.0</td>\n",
       "      <td>$$ - $$$</td>\n",
       "      <td>19.0</td>\n",
       "      <td>[['Breakfast', 'Super nice'], ['01/09/2018', '...</td>\n",
       "      <td>/Restaurant_Review-g189158-d12415456-Reviews-M...</td>\n",
       "      <td>d12415456</td>\n",
       "      <td>1</td>\n",
       "      <td>5.0</td>\n",
       "    </tr>\n",
       "    <tr>\n",
       "      <td>7462</td>\n",
       "      <td>id_7462</td>\n",
       "      <td>London</td>\n",
       "      <td>['Bar', 'British', 'Pub']</td>\n",
       "      <td>7440.0</td>\n",
       "      <td>$</td>\n",
       "      <td>29.0</td>\n",
       "      <td>[['Great local pub', 'Outstanding value'], ['1...</td>\n",
       "      <td>/Restaurant_Review-g186338-d7281944-Reviews-An...</td>\n",
       "      <td>d7281944</td>\n",
       "      <td>0</td>\n",
       "      <td>0.0</td>\n",
       "    </tr>\n",
       "    <tr>\n",
       "      <td>1236</td>\n",
       "      <td>id_1236</td>\n",
       "      <td>Stockholm</td>\n",
       "      <td>NaN</td>\n",
       "      <td>1682.0</td>\n",
       "      <td>NaN</td>\n",
       "      <td>2.0</td>\n",
       "      <td>[['Almost like in your own kitchen.', 'Nice'],...</td>\n",
       "      <td>/Restaurant_Review-g189852-d11746045-Reviews-T...</td>\n",
       "      <td>d11746045</td>\n",
       "      <td>0</td>\n",
       "      <td>0.0</td>\n",
       "    </tr>\n",
       "  </tbody>\n",
       "</table>\n",
       "</div>"
      ],
      "text/plain": [
       "      Restaurant_id       City  \\\n",
       "5423        id_5423  Barcelona   \n",
       "47147       id_1131   Helsinki   \n",
       "33728        id_905     Lisbon   \n",
       "7462        id_7462     London   \n",
       "1236        id_1236  Stockholm   \n",
       "\n",
       "                                           Cuisine Style  Ranking Price Range  \\\n",
       "5423                          ['Bar', 'European', 'Pub']   2868.0    $$ - $$$   \n",
       "47147                                     ['Bar', 'Pub']   1132.0    $$ - $$$   \n",
       "33728  ['American', 'Cafe', 'European', 'Vegetarian F...    906.0    $$ - $$$   \n",
       "7462                           ['Bar', 'British', 'Pub']   7440.0           $   \n",
       "1236                                                 NaN   1682.0         NaN   \n",
       "\n",
       "       Number of Reviews                                            Reviews  \\\n",
       "5423                67.0  [['Nice drinks and atmosphere', 'Great place t...   \n",
       "47147                7.0  [['Only reason to go is friends and/or cheap.....   \n",
       "33728               19.0  [['Breakfast', 'Super nice'], ['01/09/2018', '...   \n",
       "7462                29.0  [['Great local pub', 'Outstanding value'], ['1...   \n",
       "1236                 2.0  [['Almost like in your own kitchen.', 'Nice'],...   \n",
       "\n",
       "                                                  URL_TA      ID_TA  sample  \\\n",
       "5423   /Restaurant_Review-g187497-d7205452-Reviews-La...   d7205452       0   \n",
       "47147  /Restaurant_Review-g189934-d941256-Reviews-Baa...    d941256       1   \n",
       "33728  /Restaurant_Review-g189158-d12415456-Reviews-M...  d12415456       1   \n",
       "7462   /Restaurant_Review-g186338-d7281944-Reviews-An...   d7281944       0   \n",
       "1236   /Restaurant_Review-g189852-d11746045-Reviews-T...  d11746045       0   \n",
       "\n",
       "       Rating  \n",
       "5423      0.0  \n",
       "47147     2.0  \n",
       "33728     5.0  \n",
       "7462      0.0  \n",
       "1236      0.0  "
      ]
     },
     "execution_count": 96,
     "metadata": {},
     "output_type": "execute_result"
    }
   ],
   "source": [
    "data.sample(5)"
   ]
  },
  {
   "cell_type": "code",
   "execution_count": 97,
   "metadata": {},
   "outputs": [
    {
     "data": {
      "text/plain": [
       "Restaurant_id            0\n",
       "City                     0\n",
       "Cuisine Style        11590\n",
       "Ranking                  0\n",
       "Price Range          17361\n",
       "Number of Reviews     3200\n",
       "Reviews                  2\n",
       "URL_TA                   0\n",
       "ID_TA                    0\n",
       "sample                   0\n",
       "Rating                   0\n",
       "dtype: int64"
      ]
     },
     "execution_count": 97,
     "metadata": {},
     "output_type": "execute_result"
    }
   ],
   "source": [
    "# посмотрим на количество пропусков\n",
    "data.isna().sum()"
   ]
  },
  {
   "cell_type": "code",
   "execution_count": 98,
   "metadata": {},
   "outputs": [
    {
     "data": {
      "text/plain": [
       "Restaurant_id        13094\n",
       "City                    31\n",
       "Cuisine Style        10731\n",
       "Ranking              12975\n",
       "Price Range              3\n",
       "Number of Reviews     1573\n",
       "Reviews              41857\n",
       "URL_TA               49963\n",
       "ID_TA                49963\n",
       "sample                   2\n",
       "Rating                  10\n",
       "dtype: int64"
      ]
     },
     "execution_count": 98,
     "metadata": {},
     "output_type": "execute_result"
    }
   ],
   "source": [
    "# посмотрим на количество уникальных значений для каждого признака\n",
    "data.nunique()"
   ]
  },
  {
   "cell_type": "code",
   "execution_count": 99,
   "metadata": {},
   "outputs": [
    {
     "data": {
      "text/plain": [
       "Restaurant_id        10000\n",
       "City                    31\n",
       "Cuisine Style         3128\n",
       "Ranking               5914\n",
       "Price Range              3\n",
       "Number of Reviews      868\n",
       "Reviews               8358\n",
       "URL_TA               10000\n",
       "ID_TA                10000\n",
       "sample                   1\n",
       "Rating                   1\n",
       "dtype: int64"
      ]
     },
     "execution_count": 99,
     "metadata": {},
     "output_type": "execute_result"
    }
   ],
   "source": [
    "# количество уникальных значений для каждого признака в тестовой выборке\n",
    "df_test.nunique()"
   ]
  },
  {
   "cell_type": "markdown",
   "metadata": {},
   "source": [
    "## Проанализируем каждую из переменных отдельно "
   ]
  },
  {
   "cell_type": "markdown",
   "metadata": {},
   "source": [
    "### 1. Restaurant_id\n",
    "Номинальная переменная. Пропусков нет. 13094 уникальных значений для 50000 строк тренировочной выборки. В тестовой выборке все значения уникальны. "
   ]
  },
  {
   "cell_type": "code",
   "execution_count": 100,
   "metadata": {},
   "outputs": [
    {
     "data": {
      "text/plain": [
       "id_633      19\n",
       "id_436      19\n",
       "id_227      19\n",
       "id_871      19\n",
       "id_344      18\n",
       "            ..\n",
       "id_8148      1\n",
       "id_10707     1\n",
       "id_14343     1\n",
       "id_15106     1\n",
       "id_16318     1\n",
       "Name: Restaurant_id, Length: 13094, dtype: int64"
      ]
     },
     "execution_count": 100,
     "metadata": {},
     "output_type": "execute_result"
    }
   ],
   "source": [
    "# Есть повторяющиеся значения\n",
    "data['Restaurant_id'].value_counts()"
   ]
  },
  {
   "cell_type": "code",
   "execution_count": 101,
   "metadata": {},
   "outputs": [
    {
     "data": {
      "text/html": [
       "<div>\n",
       "<style scoped>\n",
       "    .dataframe tbody tr th:only-of-type {\n",
       "        vertical-align: middle;\n",
       "    }\n",
       "\n",
       "    .dataframe tbody tr th {\n",
       "        vertical-align: top;\n",
       "    }\n",
       "\n",
       "    .dataframe thead th {\n",
       "        text-align: right;\n",
       "    }\n",
       "</style>\n",
       "<table border=\"1\" class=\"dataframe\">\n",
       "  <thead>\n",
       "    <tr style=\"text-align: right;\">\n",
       "      <th></th>\n",
       "      <th>Restaurant_id</th>\n",
       "      <th>City</th>\n",
       "      <th>Cuisine Style</th>\n",
       "      <th>Ranking</th>\n",
       "      <th>Price Range</th>\n",
       "      <th>Number of Reviews</th>\n",
       "      <th>Reviews</th>\n",
       "      <th>URL_TA</th>\n",
       "      <th>ID_TA</th>\n",
       "      <th>sample</th>\n",
       "      <th>Rating</th>\n",
       "    </tr>\n",
       "  </thead>\n",
       "  <tbody>\n",
       "    <tr>\n",
       "      <td>436</td>\n",
       "      <td>id_436</td>\n",
       "      <td>Lisbon</td>\n",
       "      <td>['European', 'Portuguese']</td>\n",
       "      <td>2904.0</td>\n",
       "      <td>NaN</td>\n",
       "      <td>2.0</td>\n",
       "      <td>[[], []]</td>\n",
       "      <td>/Restaurant_Review-g189158-d5003144-Reviews-Gu...</td>\n",
       "      <td>d5003144</td>\n",
       "      <td>0</td>\n",
       "      <td>0.0</td>\n",
       "    </tr>\n",
       "    <tr>\n",
       "      <td>12955</td>\n",
       "      <td>id_436</td>\n",
       "      <td>Barcelona</td>\n",
       "      <td>['Seafood', 'Mediterranean', 'Spanish', 'Glute...</td>\n",
       "      <td>437.0</td>\n",
       "      <td>$$ - $$$</td>\n",
       "      <td>546.0</td>\n",
       "      <td>[['Fresh Fish', 'Perfect concept'], ['01/03/20...</td>\n",
       "      <td>/Restaurant_Review-g187497-d1592613-Reviews-La...</td>\n",
       "      <td>d1592613</td>\n",
       "      <td>1</td>\n",
       "      <td>4.5</td>\n",
       "    </tr>\n",
       "    <tr>\n",
       "      <td>14674</td>\n",
       "      <td>id_436</td>\n",
       "      <td>Copenhagen</td>\n",
       "      <td>['European', 'Spanish', 'Mediterranean', 'Vege...</td>\n",
       "      <td>437.0</td>\n",
       "      <td>$$ - $$$</td>\n",
       "      <td>89.0</td>\n",
       "      <td>[['Lovely restaurant', 'Great atmosphere and g...</td>\n",
       "      <td>/Restaurant_Review-g189541-d8738362-Reviews-To...</td>\n",
       "      <td>d8738362</td>\n",
       "      <td>1</td>\n",
       "      <td>4.0</td>\n",
       "    </tr>\n",
       "    <tr>\n",
       "      <td>16118</td>\n",
       "      <td>id_436</td>\n",
       "      <td>Oporto</td>\n",
       "      <td>['European', 'Portuguese', 'Soups', 'Cafe', 'V...</td>\n",
       "      <td>437.0</td>\n",
       "      <td>$</td>\n",
       "      <td>71.0</td>\n",
       "      <td>[['Super nice healthy and good', 'Great lunch ...</td>\n",
       "      <td>/Restaurant_Review-g189180-d9463122-Reviews-Ca...</td>\n",
       "      <td>d9463122</td>\n",
       "      <td>1</td>\n",
       "      <td>4.5</td>\n",
       "    </tr>\n",
       "    <tr>\n",
       "      <td>16215</td>\n",
       "      <td>id_436</td>\n",
       "      <td>Budapest</td>\n",
       "      <td>['American', 'Vegetarian Friendly', 'Vegan Opt...</td>\n",
       "      <td>437.0</td>\n",
       "      <td>$</td>\n",
       "      <td>68.0</td>\n",
       "      <td>[['Excellent', 'Best burger ever!'], ['12/05/2...</td>\n",
       "      <td>/Restaurant_Review-g274887-d10438365-Reviews-B...</td>\n",
       "      <td>d10438365</td>\n",
       "      <td>1</td>\n",
       "      <td>4.5</td>\n",
       "    </tr>\n",
       "    <tr>\n",
       "      <td>17377</td>\n",
       "      <td>id_436</td>\n",
       "      <td>Luxembourg</td>\n",
       "      <td>['Asian']</td>\n",
       "      <td>437.0</td>\n",
       "      <td>NaN</td>\n",
       "      <td>2.0</td>\n",
       "      <td>[['ZEN'], ['06/11/2016']]</td>\n",
       "      <td>/Restaurant_Review-g190356-d743888-Reviews-Zen...</td>\n",
       "      <td>d743888</td>\n",
       "      <td>1</td>\n",
       "      <td>4.5</td>\n",
       "    </tr>\n",
       "    <tr>\n",
       "      <td>18168</td>\n",
       "      <td>id_436</td>\n",
       "      <td>Oslo</td>\n",
       "      <td>['European', 'Scandinavian']</td>\n",
       "      <td>437.0</td>\n",
       "      <td>$$$$</td>\n",
       "      <td>51.0</td>\n",
       "      <td>[['Stunning views over Oslo', 'Brilliant break...</td>\n",
       "      <td>/Restaurant_Review-g190479-d2036436-Reviews-Re...</td>\n",
       "      <td>d2036436</td>\n",
       "      <td>1</td>\n",
       "      <td>4.0</td>\n",
       "    </tr>\n",
       "    <tr>\n",
       "      <td>18497</td>\n",
       "      <td>id_436</td>\n",
       "      <td>Milan</td>\n",
       "      <td>['Italian', 'Pizza', 'Mediterranean', 'Vegetar...</td>\n",
       "      <td>437.0</td>\n",
       "      <td>$$ - $$$</td>\n",
       "      <td>855.0</td>\n",
       "      <td>[['Nice Napoli style pizza place', 'Great Neap...</td>\n",
       "      <td>/Restaurant_Review-g187849-d1553645-Reviews-Il...</td>\n",
       "      <td>d1553645</td>\n",
       "      <td>1</td>\n",
       "      <td>4.0</td>\n",
       "    </tr>\n",
       "    <tr>\n",
       "      <td>22554</td>\n",
       "      <td>id_436</td>\n",
       "      <td>Ljubljana</td>\n",
       "      <td>NaN</td>\n",
       "      <td>437.0</td>\n",
       "      <td>NaN</td>\n",
       "      <td>14.0</td>\n",
       "      <td>[['Terrible staff and service', 'Disrespectful...</td>\n",
       "      <td>/Restaurant_Review-g274873-d12607480-Reviews-C...</td>\n",
       "      <td>d12607480</td>\n",
       "      <td>1</td>\n",
       "      <td>3.0</td>\n",
       "    </tr>\n",
       "    <tr>\n",
       "      <td>23313</td>\n",
       "      <td>id_436</td>\n",
       "      <td>Krakow</td>\n",
       "      <td>['Vegetarian Friendly']</td>\n",
       "      <td>437.0</td>\n",
       "      <td>$$ - $$$</td>\n",
       "      <td>18.0</td>\n",
       "      <td>[['Great find, 100% recommend', 'Amazing brunc...</td>\n",
       "      <td>/Restaurant_Review-g274772-d12404722-Reviews-R...</td>\n",
       "      <td>d12404722</td>\n",
       "      <td>1</td>\n",
       "      <td>4.5</td>\n",
       "    </tr>\n",
       "    <tr>\n",
       "      <td>26973</td>\n",
       "      <td>id_436</td>\n",
       "      <td>Stockholm</td>\n",
       "      <td>['Italian', 'Pizza', 'Vegetarian Friendly', 'G...</td>\n",
       "      <td>437.0</td>\n",
       "      <td>$$ - $$$</td>\n",
       "      <td>30.0</td>\n",
       "      <td>[['Awesome pizza', 'Meno male- a nice discover...</td>\n",
       "      <td>/Restaurant_Review-g189852-d12519439-Reviews-M...</td>\n",
       "      <td>d12519439</td>\n",
       "      <td>1</td>\n",
       "      <td>4.5</td>\n",
       "    </tr>\n",
       "    <tr>\n",
       "      <td>29686</td>\n",
       "      <td>id_436</td>\n",
       "      <td>Berlin</td>\n",
       "      <td>['Mediterranean', 'European', 'Italian', 'Seaf...</td>\n",
       "      <td>437.0</td>\n",
       "      <td>$$ - $$$</td>\n",
       "      <td>84.0</td>\n",
       "      <td>[['Excellent food', 'Buonissimo'], ['12/15/201...</td>\n",
       "      <td>/Restaurant_Review-g187323-d8087299-Reviews-In...</td>\n",
       "      <td>d8087299</td>\n",
       "      <td>1</td>\n",
       "      <td>4.5</td>\n",
       "    </tr>\n",
       "    <tr>\n",
       "      <td>31302</td>\n",
       "      <td>id_436</td>\n",
       "      <td>London</td>\n",
       "      <td>['Seafood', 'European', 'British', 'Soups', 'V...</td>\n",
       "      <td>437.0</td>\n",
       "      <td>$$$$</td>\n",
       "      <td>1606.0</td>\n",
       "      <td>[['Expensive but still worthwhile', 'Personali...</td>\n",
       "      <td>/Restaurant_Review-g186338-d733537-Reviews-Ben...</td>\n",
       "      <td>d733537</td>\n",
       "      <td>1</td>\n",
       "      <td>4.0</td>\n",
       "    </tr>\n",
       "    <tr>\n",
       "      <td>31861</td>\n",
       "      <td>id_436</td>\n",
       "      <td>Rome</td>\n",
       "      <td>['Italian', 'Cafe', 'Vegetarian Friendly', 'Ve...</td>\n",
       "      <td>437.0</td>\n",
       "      <td>$</td>\n",
       "      <td>374.0</td>\n",
       "      <td>[['A hidden gem!', 'Highly recommended!!'], ['...</td>\n",
       "      <td>/Restaurant_Review-g187791-d3340828-Reviews-Ba...</td>\n",
       "      <td>d3340828</td>\n",
       "      <td>1</td>\n",
       "      <td>4.5</td>\n",
       "    </tr>\n",
       "    <tr>\n",
       "      <td>33452</td>\n",
       "      <td>id_436</td>\n",
       "      <td>Munich</td>\n",
       "      <td>['Cafe', 'Mediterranean', 'European', 'Central...</td>\n",
       "      <td>440.0</td>\n",
       "      <td>$$ - $$$</td>\n",
       "      <td>83.0</td>\n",
       "      <td>[['fantastissimo', 'Excellent food und service...</td>\n",
       "      <td>/Restaurant_Review-g187309-d1837048-Reviews-L_...</td>\n",
       "      <td>d1837048</td>\n",
       "      <td>1</td>\n",
       "      <td>4.5</td>\n",
       "    </tr>\n",
       "    <tr>\n",
       "      <td>33799</td>\n",
       "      <td>id_436</td>\n",
       "      <td>Athens</td>\n",
       "      <td>['American', 'Bar', 'Central American', 'Veget...</td>\n",
       "      <td>437.0</td>\n",
       "      <td>$$ - $$$</td>\n",
       "      <td>207.0</td>\n",
       "      <td>[['Past its prime', 'Nice to be back'], ['11/2...</td>\n",
       "      <td>/Restaurant_Review-g189400-d789069-Reviews-TGI...</td>\n",
       "      <td>d789069</td>\n",
       "      <td>1</td>\n",
       "      <td>4.0</td>\n",
       "    </tr>\n",
       "    <tr>\n",
       "      <td>36902</td>\n",
       "      <td>id_436</td>\n",
       "      <td>Hamburg</td>\n",
       "      <td>['European', 'Swedish', 'Scandinavian', 'Danis...</td>\n",
       "      <td>437.0</td>\n",
       "      <td>$$ - $$$</td>\n",
       "      <td>47.0</td>\n",
       "      <td>[['Scandi cafe in hamburg', 'Scandinavian want...</td>\n",
       "      <td>/Restaurant_Review-g187331-d1962984-Reviews-Ka...</td>\n",
       "      <td>d1962984</td>\n",
       "      <td>1</td>\n",
       "      <td>4.0</td>\n",
       "    </tr>\n",
       "    <tr>\n",
       "      <td>41248</td>\n",
       "      <td>id_436</td>\n",
       "      <td>Vienna</td>\n",
       "      <td>['Japanese', 'Asian', 'Vegetarian Friendly', '...</td>\n",
       "      <td>437.0</td>\n",
       "      <td>$$ - $$$</td>\n",
       "      <td>119.0</td>\n",
       "      <td>[['Japan in Austria', 'Real Japanese food in V...</td>\n",
       "      <td>/Restaurant_Review-g190454-d788089-Reviews-Kui...</td>\n",
       "      <td>d788089</td>\n",
       "      <td>1</td>\n",
       "      <td>4.5</td>\n",
       "    </tr>\n",
       "    <tr>\n",
       "      <td>41298</td>\n",
       "      <td>id_436</td>\n",
       "      <td>Madrid</td>\n",
       "      <td>['Georgian', 'Vegetarian Friendly']</td>\n",
       "      <td>437.0</td>\n",
       "      <td>$</td>\n",
       "      <td>120.0</td>\n",
       "      <td>[['Authentic and delicious', 'Khachapuri is am...</td>\n",
       "      <td>/Restaurant_Review-g187514-d10536551-Reviews-K...</td>\n",
       "      <td>d10536551</td>\n",
       "      <td>1</td>\n",
       "      <td>4.5</td>\n",
       "    </tr>\n",
       "  </tbody>\n",
       "</table>\n",
       "</div>"
      ],
      "text/plain": [
       "      Restaurant_id        City  \\\n",
       "436          id_436      Lisbon   \n",
       "12955        id_436   Barcelona   \n",
       "14674        id_436  Copenhagen   \n",
       "16118        id_436      Oporto   \n",
       "16215        id_436    Budapest   \n",
       "17377        id_436  Luxembourg   \n",
       "18168        id_436        Oslo   \n",
       "18497        id_436       Milan   \n",
       "22554        id_436   Ljubljana   \n",
       "23313        id_436      Krakow   \n",
       "26973        id_436   Stockholm   \n",
       "29686        id_436      Berlin   \n",
       "31302        id_436      London   \n",
       "31861        id_436        Rome   \n",
       "33452        id_436      Munich   \n",
       "33799        id_436      Athens   \n",
       "36902        id_436     Hamburg   \n",
       "41248        id_436      Vienna   \n",
       "41298        id_436      Madrid   \n",
       "\n",
       "                                           Cuisine Style  Ranking Price Range  \\\n",
       "436                           ['European', 'Portuguese']   2904.0         NaN   \n",
       "12955  ['Seafood', 'Mediterranean', 'Spanish', 'Glute...    437.0    $$ - $$$   \n",
       "14674  ['European', 'Spanish', 'Mediterranean', 'Vege...    437.0    $$ - $$$   \n",
       "16118  ['European', 'Portuguese', 'Soups', 'Cafe', 'V...    437.0           $   \n",
       "16215  ['American', 'Vegetarian Friendly', 'Vegan Opt...    437.0           $   \n",
       "17377                                          ['Asian']    437.0         NaN   \n",
       "18168                       ['European', 'Scandinavian']    437.0        $$$$   \n",
       "18497  ['Italian', 'Pizza', 'Mediterranean', 'Vegetar...    437.0    $$ - $$$   \n",
       "22554                                                NaN    437.0         NaN   \n",
       "23313                            ['Vegetarian Friendly']    437.0    $$ - $$$   \n",
       "26973  ['Italian', 'Pizza', 'Vegetarian Friendly', 'G...    437.0    $$ - $$$   \n",
       "29686  ['Mediterranean', 'European', 'Italian', 'Seaf...    437.0    $$ - $$$   \n",
       "31302  ['Seafood', 'European', 'British', 'Soups', 'V...    437.0        $$$$   \n",
       "31861  ['Italian', 'Cafe', 'Vegetarian Friendly', 'Ve...    437.0           $   \n",
       "33452  ['Cafe', 'Mediterranean', 'European', 'Central...    440.0    $$ - $$$   \n",
       "33799  ['American', 'Bar', 'Central American', 'Veget...    437.0    $$ - $$$   \n",
       "36902  ['European', 'Swedish', 'Scandinavian', 'Danis...    437.0    $$ - $$$   \n",
       "41248  ['Japanese', 'Asian', 'Vegetarian Friendly', '...    437.0    $$ - $$$   \n",
       "41298                ['Georgian', 'Vegetarian Friendly']    437.0           $   \n",
       "\n",
       "       Number of Reviews                                            Reviews  \\\n",
       "436                  2.0                                           [[], []]   \n",
       "12955              546.0  [['Fresh Fish', 'Perfect concept'], ['01/03/20...   \n",
       "14674               89.0  [['Lovely restaurant', 'Great atmosphere and g...   \n",
       "16118               71.0  [['Super nice healthy and good', 'Great lunch ...   \n",
       "16215               68.0  [['Excellent', 'Best burger ever!'], ['12/05/2...   \n",
       "17377                2.0                          [['ZEN'], ['06/11/2016']]   \n",
       "18168               51.0  [['Stunning views over Oslo', 'Brilliant break...   \n",
       "18497              855.0  [['Nice Napoli style pizza place', 'Great Neap...   \n",
       "22554               14.0  [['Terrible staff and service', 'Disrespectful...   \n",
       "23313               18.0  [['Great find, 100% recommend', 'Amazing brunc...   \n",
       "26973               30.0  [['Awesome pizza', 'Meno male- a nice discover...   \n",
       "29686               84.0  [['Excellent food', 'Buonissimo'], ['12/15/201...   \n",
       "31302             1606.0  [['Expensive but still worthwhile', 'Personali...   \n",
       "31861              374.0  [['A hidden gem!', 'Highly recommended!!'], ['...   \n",
       "33452               83.0  [['fantastissimo', 'Excellent food und service...   \n",
       "33799              207.0  [['Past its prime', 'Nice to be back'], ['11/2...   \n",
       "36902               47.0  [['Scandi cafe in hamburg', 'Scandinavian want...   \n",
       "41248              119.0  [['Japan in Austria', 'Real Japanese food in V...   \n",
       "41298              120.0  [['Authentic and delicious', 'Khachapuri is am...   \n",
       "\n",
       "                                                  URL_TA      ID_TA  sample  \\\n",
       "436    /Restaurant_Review-g189158-d5003144-Reviews-Gu...   d5003144       0   \n",
       "12955  /Restaurant_Review-g187497-d1592613-Reviews-La...   d1592613       1   \n",
       "14674  /Restaurant_Review-g189541-d8738362-Reviews-To...   d8738362       1   \n",
       "16118  /Restaurant_Review-g189180-d9463122-Reviews-Ca...   d9463122       1   \n",
       "16215  /Restaurant_Review-g274887-d10438365-Reviews-B...  d10438365       1   \n",
       "17377  /Restaurant_Review-g190356-d743888-Reviews-Zen...    d743888       1   \n",
       "18168  /Restaurant_Review-g190479-d2036436-Reviews-Re...   d2036436       1   \n",
       "18497  /Restaurant_Review-g187849-d1553645-Reviews-Il...   d1553645       1   \n",
       "22554  /Restaurant_Review-g274873-d12607480-Reviews-C...  d12607480       1   \n",
       "23313  /Restaurant_Review-g274772-d12404722-Reviews-R...  d12404722       1   \n",
       "26973  /Restaurant_Review-g189852-d12519439-Reviews-M...  d12519439       1   \n",
       "29686  /Restaurant_Review-g187323-d8087299-Reviews-In...   d8087299       1   \n",
       "31302  /Restaurant_Review-g186338-d733537-Reviews-Ben...    d733537       1   \n",
       "31861  /Restaurant_Review-g187791-d3340828-Reviews-Ba...   d3340828       1   \n",
       "33452  /Restaurant_Review-g187309-d1837048-Reviews-L_...   d1837048       1   \n",
       "33799  /Restaurant_Review-g189400-d789069-Reviews-TGI...    d789069       1   \n",
       "36902  /Restaurant_Review-g187331-d1962984-Reviews-Ka...   d1962984       1   \n",
       "41248  /Restaurant_Review-g190454-d788089-Reviews-Kui...    d788089       1   \n",
       "41298  /Restaurant_Review-g187514-d10536551-Reviews-K...  d10536551       1   \n",
       "\n",
       "       Rating  \n",
       "436       0.0  \n",
       "12955     4.5  \n",
       "14674     4.0  \n",
       "16118     4.5  \n",
       "16215     4.5  \n",
       "17377     4.5  \n",
       "18168     4.0  \n",
       "18497     4.0  \n",
       "22554     3.0  \n",
       "23313     4.5  \n",
       "26973     4.5  \n",
       "29686     4.5  \n",
       "31302     4.0  \n",
       "31861     4.5  \n",
       "33452     4.5  \n",
       "33799     4.0  \n",
       "36902     4.0  \n",
       "41248     4.5  \n",
       "41298     4.5  "
      ]
     },
     "execution_count": 101,
     "metadata": {},
     "output_type": "execute_result"
    }
   ],
   "source": [
    "# Посмотрим, как выглядят рестораны с одинаковым Restaurant_id\n",
    "data[data['Restaurant_id'] == 'id_436']"
   ]
  },
  {
   "cell_type": "markdown",
   "metadata": {},
   "source": [
    "   Номер id практически совпадает с рангом ресторана в городе. Переведем этот признак в числовой формат и посмотрим корреляцию."
   ]
  },
  {
   "cell_type": "code",
   "execution_count": 102,
   "metadata": {},
   "outputs": [],
   "source": [
    "data['Int_Restaurant_id'] = data['Restaurant_id'].apply(lambda x: int(x[3:]))"
   ]
  },
  {
   "cell_type": "code",
   "execution_count": 103,
   "metadata": {},
   "outputs": [
    {
     "data": {
      "text/html": [
       "<div>\n",
       "<style scoped>\n",
       "    .dataframe tbody tr th:only-of-type {\n",
       "        vertical-align: middle;\n",
       "    }\n",
       "\n",
       "    .dataframe tbody tr th {\n",
       "        vertical-align: top;\n",
       "    }\n",
       "\n",
       "    .dataframe thead th {\n",
       "        text-align: right;\n",
       "    }\n",
       "</style>\n",
       "<table border=\"1\" class=\"dataframe\">\n",
       "  <thead>\n",
       "    <tr style=\"text-align: right;\">\n",
       "      <th></th>\n",
       "      <th>Int_Restaurant_id</th>\n",
       "      <th>Ranking</th>\n",
       "    </tr>\n",
       "  </thead>\n",
       "  <tbody>\n",
       "    <tr>\n",
       "      <td>Int_Restaurant_id</td>\n",
       "      <td>1.00000</td>\n",
       "      <td>0.82509</td>\n",
       "    </tr>\n",
       "    <tr>\n",
       "      <td>Ranking</td>\n",
       "      <td>0.82509</td>\n",
       "      <td>1.00000</td>\n",
       "    </tr>\n",
       "  </tbody>\n",
       "</table>\n",
       "</div>"
      ],
      "text/plain": [
       "                   Int_Restaurant_id  Ranking\n",
       "Int_Restaurant_id            1.00000  0.82509\n",
       "Ranking                      0.82509  1.00000"
      ]
     },
     "execution_count": 103,
     "metadata": {},
     "output_type": "execute_result"
    }
   ],
   "source": [
    "data[['Int_Restaurant_id', 'Ranking']].corr()"
   ]
  },
  {
   "cell_type": "code",
   "execution_count": 104,
   "metadata": {},
   "outputs": [
    {
     "data": {
      "text/html": [
       "<div>\n",
       "<style scoped>\n",
       "    .dataframe tbody tr th:only-of-type {\n",
       "        vertical-align: middle;\n",
       "    }\n",
       "\n",
       "    .dataframe tbody tr th {\n",
       "        vertical-align: top;\n",
       "    }\n",
       "\n",
       "    .dataframe thead th {\n",
       "        text-align: right;\n",
       "    }\n",
       "</style>\n",
       "<table border=\"1\" class=\"dataframe\">\n",
       "  <thead>\n",
       "    <tr style=\"text-align: right;\">\n",
       "      <th></th>\n",
       "      <th>Int_Restaurant_id</th>\n",
       "      <th>Ranking</th>\n",
       "    </tr>\n",
       "  </thead>\n",
       "  <tbody>\n",
       "    <tr>\n",
       "      <td>Int_Restaurant_id</td>\n",
       "      <td>1.000000</td>\n",
       "      <td>0.999999</td>\n",
       "    </tr>\n",
       "    <tr>\n",
       "      <td>Ranking</td>\n",
       "      <td>0.999999</td>\n",
       "      <td>1.000000</td>\n",
       "    </tr>\n",
       "  </tbody>\n",
       "</table>\n",
       "</div>"
      ],
      "text/plain": [
       "                   Int_Restaurant_id   Ranking\n",
       "Int_Restaurant_id           1.000000  0.999999\n",
       "Ranking                     0.999999  1.000000"
      ]
     },
     "execution_count": 104,
     "metadata": {},
     "output_type": "execute_result"
    }
   ],
   "source": [
    "# В трейновой выборке корреляция близка к единице\n",
    "data[data['Rating'] == 1][['Int_Restaurant_id', 'Ranking']].corr()"
   ]
  },
  {
   "cell_type": "code",
   "execution_count": 105,
   "metadata": {},
   "outputs": [
    {
     "data": {
      "text/html": [
       "<div>\n",
       "<style scoped>\n",
       "    .dataframe tbody tr th:only-of-type {\n",
       "        vertical-align: middle;\n",
       "    }\n",
       "\n",
       "    .dataframe tbody tr th {\n",
       "        vertical-align: top;\n",
       "    }\n",
       "\n",
       "    .dataframe thead th {\n",
       "        text-align: right;\n",
       "    }\n",
       "</style>\n",
       "<table border=\"1\" class=\"dataframe\">\n",
       "  <thead>\n",
       "    <tr style=\"text-align: right;\">\n",
       "      <th></th>\n",
       "      <th>Int_Restaurant_id</th>\n",
       "      <th>Ranking</th>\n",
       "    </tr>\n",
       "  </thead>\n",
       "  <tbody>\n",
       "    <tr>\n",
       "      <td>Int_Restaurant_id</td>\n",
       "      <td>1.000000</td>\n",
       "      <td>-0.001706</td>\n",
       "    </tr>\n",
       "    <tr>\n",
       "      <td>Ranking</td>\n",
       "      <td>-0.001706</td>\n",
       "      <td>1.000000</td>\n",
       "    </tr>\n",
       "  </tbody>\n",
       "</table>\n",
       "</div>"
      ],
      "text/plain": [
       "                   Int_Restaurant_id   Ranking\n",
       "Int_Restaurant_id           1.000000 -0.001706\n",
       "Ranking                    -0.001706  1.000000"
      ]
     },
     "execution_count": 105,
     "metadata": {},
     "output_type": "execute_result"
    }
   ],
   "source": [
    "# В тестовой выборке эти показатели не коррелируют \n",
    "data[data['Rating'] == 0][['Int_Restaurant_id', 'Ranking']].corr()"
   ]
  },
  {
   "cell_type": "markdown",
   "metadata": {},
   "source": [
    "Для построения модели этот признак точно избыточен, тк имеет очень высокую корреляцию с рангом ресторана. \n",
    "А на тестовой выборке взаимосвязи нет. Там значения не повторяются и в чистом виде могут рассматриваться \n",
    "как уникальный идентификатор. "
   ]
  },
  {
   "cell_type": "code",
   "execution_count": 106,
   "metadata": {},
   "outputs": [],
   "source": [
    "data.drop(['Restaurant_id','Int_Restaurant_id'], axis = 1, inplace=True)"
   ]
  },
  {
   "cell_type": "markdown",
   "metadata": {},
   "source": [
    "### 2. City\n",
    "Номинальная переменная. Пропусков нет. 31 уникальное значение. "
   ]
  },
  {
   "cell_type": "code",
   "execution_count": 107,
   "metadata": {},
   "outputs": [
    {
     "data": {
      "text/plain": [
       "array(['Paris', 'Helsinki', 'Edinburgh', 'London', 'Bratislava', 'Lisbon',\n",
       "       'Budapest', 'Stockholm', 'Rome', 'Milan', 'Munich', 'Hamburg',\n",
       "       'Prague', 'Vienna', 'Dublin', 'Barcelona', 'Brussels', 'Madrid',\n",
       "       'Oslo', 'Amsterdam', 'Berlin', 'Lyon', 'Athens', 'Warsaw',\n",
       "       'Oporto', 'Krakow', 'Copenhagen', 'Luxembourg', 'Zurich', 'Geneva',\n",
       "       'Ljubljana'], dtype=object)"
      ]
     },
     "execution_count": 107,
     "metadata": {},
     "output_type": "execute_result"
    }
   ],
   "source": [
    "data.City.unique()"
   ]
  },
  {
   "cell_type": "code",
   "execution_count": 108,
   "metadata": {},
   "outputs": [],
   "source": [
    "# Создадим серию с городами - какие чаще встречаются\n",
    "Cities = data.City.value_counts()"
   ]
  },
  {
   "cell_type": "code",
   "execution_count": 109,
   "metadata": {},
   "outputs": [
    {
     "data": {
      "text/plain": [
       "<matplotlib.axes._subplots.AxesSubplot at 0x152fd984f88>"
      ]
     },
     "execution_count": 109,
     "metadata": {},
     "output_type": "execute_result"
    },
    {
     "data": {
      "image/png": "[encoded data removed]",
      "text/plain": [
       "<Figure size 432x288 with 1 Axes>"
      ]
     },
     "metadata": {
      "needs_background": "light"
     },
     "output_type": "display_data"
    }
   ],
   "source": [
    "# Видим, что города сильно отличаются по своей представленности в датасете\n",
    "Cities.plot(kind = 'bar')"
   ]
  },
  {
   "cell_type": "code",
   "execution_count": 110,
   "metadata": {},
   "outputs": [],
   "source": [
    "# Можно предположить, что относительное количество ресторанов из разных городов \n",
    "# отражает и различия в численности населения городов. Этот признак надо сохранить. \n",
    "city_count_in_data = Cities.to_dict()\n",
    "data['City Count in Data'] = data['City'].apply(lambda x: city_count_in_data.get(x))"
   ]
  },
  {
   "cell_type": "code",
   "execution_count": 111,
   "metadata": {},
   "outputs": [],
   "source": [
    "# Создадим словарь, в котором укажем данные о численности населения и количестве ресторанов в городе\n",
    "\n",
    "city_info = {\n",
    "    'London': [8787892, 16973], \n",
    "    'Paris': [2140526, 15432],\n",
    "    'Madrid': [3223334, 10019],\n",
    "    'Barcelona': [1620343, 8608],\n",
    "    'Berlin': [3601131, 5933],\n",
    "    'Milan': [1366180,  6672],\n",
    "    'Rome': [2872800, 10109],\n",
    "    'Prague': [1280508, 4619],\n",
    "    'Lisbon': [505526, 4452],\n",
    "    'Vienna': [1840573, 3744],\n",
    "    'Amsterdam': [859732, 3651],\n",
    "    'Brussels': [1198726, 2365],\n",
    "    'Hamburg': [1830584, 2881],\n",
    "    'Munich': [1456039, 2838],\n",
    "    'Lyon': [515695, 2512],\n",
    "    'Stockholm': [961609, 2709],\n",
    "    'Budapest': [1749734, 2751],\n",
    "    'Warsaw': [1758143, 2733],\n",
    "    'Dublin': [553165, 2070],\n",
    "    'Copenhagen': [615993, 1955],\n",
    "    'Athens': [655780, 2300],\n",
    "    'Edinburgh': [537000, 1727],\n",
    "    'Zurich': [402275, 1659],\n",
    "    'Oporto': [249633, 1822],\n",
    "    'Geneva': [499480, 1369],\n",
    "    'Krakow': [779115, 1492],\n",
    "    'Oslo': [673469, 1146],\n",
    "    'Helsinki': [643272, 1384],\n",
    "    'Bratislava': [424428, 1037],\n",
    "    'Luxembourg': [122273, 659],\n",
    "    'Ljubljana': [279631, 540]\n",
    "}"
   ]
  },
  {
   "cell_type": "code",
   "execution_count": 112,
   "metadata": {},
   "outputs": [],
   "source": [
    "# Численность населения\n",
    "data['City Population'] = data['City'].apply(lambda x: city_info.get(x)[0])"
   ]
  },
  {
   "cell_type": "code",
   "execution_count": 113,
   "metadata": {},
   "outputs": [],
   "source": [
    "# Количество ресторанов в городе\n",
    "data['Restaurant Count in City'] = data['City'].apply(lambda x: city_info.get(x)[1])"
   ]
  },
  {
   "cell_type": "code",
   "execution_count": 114,
   "metadata": {},
   "outputs": [],
   "source": [
    "# Посчитаем индекс - количество людей, которое приходится на один ресторан\n",
    "data['Persons per Restaurant City Index'] = data['City Population']/data['Restaurant Count in City']"
   ]
  },
  {
   "cell_type": "markdown",
   "metadata": {},
   "source": [
    "### 3. Cuisine Style\n",
    "Номинальная переменная. Представлена списками. 11590 пропущенных значений. \n"
   ]
  },
  {
   "cell_type": "code",
   "execution_count": 115,
   "metadata": {},
   "outputs": [],
   "source": [
    "# Создадим отдельный столбец, в котором зафиксируем, что значение пропущено\n",
    "data['Missing Cuisine Style'] = pd.isna(data['Cuisine Style']).astype('uint8') \n",
    "\n",
    "# заполним пропуски значением 'Missing'\n",
    "data['Cuisine Style'] = data['Cuisine Style'].fillna(\"['Missing']\")\n"
   ]
  },
  {
   "cell_type": "code",
   "execution_count": 116,
   "metadata": {},
   "outputs": [],
   "source": [
    "# Вытащим в отдельный столбец типы кухонь в виде списка\n",
    "data['Cuisine Style List'] = data['Cuisine Style'].str.findall(r\"'(\\b.*?\\b)'\")"
   ]
  },
  {
   "cell_type": "code",
   "execution_count": 117,
   "metadata": {},
   "outputs": [
    {
     "data": {
      "text/plain": [
       "0                                           [Bar, Pub]\n",
       "1    [European, Scandinavian, Gluten Free Options, ...\n",
       "2                                [Vegetarian Friendly]\n",
       "3    [Italian, Mediterranean, European, Vegetarian ...\n",
       "4    [Italian, Mediterranean, European, Seafood, Ve...\n",
       "Name: Cuisine Style List, dtype: object"
      ]
     },
     "execution_count": 117,
     "metadata": {},
     "output_type": "execute_result"
    }
   ],
   "source": [
    "data['Cuisine Style List'].head()"
   ]
  },
  {
   "cell_type": "code",
   "execution_count": 118,
   "metadata": {},
   "outputs": [
    {
     "data": {
      "text/plain": [
       "Vegetarian Friendly    14021\n",
       "European               12561\n",
       "Missing                11590\n",
       "Mediterranean           7820\n",
       "Italian                 7433\n",
       "                       ...  \n",
       "Polynesian                 2\n",
       "Salvadoran                 1\n",
       "Xinjiang                   1\n",
       "Burmese                    1\n",
       "Latvian                    1\n",
       "Length: 126, dtype: int64"
      ]
     },
     "execution_count": 118,
     "metadata": {},
     "output_type": "execute_result"
    }
   ],
   "source": [
    "# Посчитаем количество уникальных типов кухонь\n",
    "c = Counter()\n",
    "for line in data['Cuisine Style List']:\n",
    "    for cuisine_style in line:\n",
    "        c[cuisine_style] += 1\n",
    "cuisine_styles = pd.Series(c)\n",
    "cuisine_styles.sort_values(ascending=False)"
   ]
  },
  {
   "cell_type": "code",
   "execution_count": 119,
   "metadata": {},
   "outputs": [],
   "source": [
    "# Новый столбец - богатство выбора в ресторане (сколько типов кухонь и диетических предпочтений они предлагают)\n",
    "data['Cuisine Style Options'] = data['Cuisine Style List'].apply(lambda x: len(x))"
   ]
  },
  {
   "cell_type": "code",
   "execution_count": 120,
   "metadata": {},
   "outputs": [],
   "source": [
    "# Специализированное меню ресторанов (такая характеристика есть на сайте)\n",
    "special_diets = ['Vegetarian Friendly', 'Vegan Options', 'Gluten Free Options', 'Kosher', 'Halal']"
   ]
  },
  {
   "cell_type": "code",
   "execution_count": 121,
   "metadata": {},
   "outputs": [],
   "source": [
    "def get_special_diets(line):\n",
    "    \"\"\" Функция для подсчета опций специализированного меню \"\"\"\n",
    "    \n",
    "    counter = 0\n",
    "    for item in line:\n",
    "        if item in special_diets:\n",
    "            counter +=1\n",
    "    return counter"
   ]
  },
  {
   "cell_type": "code",
   "execution_count": 122,
   "metadata": {},
   "outputs": [],
   "source": [
    "# Колонка \"специализированное меню\"\n",
    "data['Special Diets'] = data['Cuisine Style List'].apply(get_special_diets)"
   ]
  },
  {
   "cell_type": "code",
   "execution_count": 123,
   "metadata": {},
   "outputs": [],
   "source": [
    "data['Special Diets Binary'] = data['Special Diets'].apply(lambda x: 1 if x>0 else 0)"
   ]
  },
  {
   "cell_type": "markdown",
   "metadata": {},
   "source": [
    "### 4. Ranking\n",
    "Переменная в ранговой шкале. Пропусков нет. "
   ]
  },
  {
   "cell_type": "code",
   "execution_count": 124,
   "metadata": {},
   "outputs": [
    {
     "data": {
      "text/plain": [
       "<matplotlib.axes._subplots.AxesSubplot at 0x1528079f408>"
      ]
     },
     "execution_count": 124,
     "metadata": {},
     "output_type": "execute_result"
    },
    {
     "data": {
      "image/png": "[encoded data removed]",
      "text/plain": [
       "<Figure size 720x504 with 1 Axes>"
      ]
     },
     "metadata": {
      "needs_background": "light"
     },
     "output_type": "display_data"
    }
   ],
   "source": [
    "# Посмотрим на распределение признака\n",
    "plt.rcParams['figure.figsize'] = (10,7)\n",
    "df_train['Ranking'].hist(bins=100)"
   ]
  },
  {
   "cell_type": "code",
   "execution_count": 125,
   "metadata": {},
   "outputs": [
    {
     "data": {
      "image/png": "[encoded data removed]",
      "text/plain": [
       "<Figure size 720x504 with 1 Axes>"
      ]
     },
     "metadata": {
      "needs_background": "light"
     },
     "output_type": "display_data"
    }
   ],
   "source": [
    "# посмотрим на топ 10 городов\n",
    "for x in (df_train['City'].value_counts())[0:10].index:\n",
    "    df_train['Ranking'][df_train['City'] == x].hist(bins=100)\n",
    "plt.show()"
   ]
  },
  {
   "cell_type": "code",
   "execution_count": 126,
   "metadata": {},
   "outputs": [],
   "source": [
    "# относительный ранг ресторана\n",
    "data['Relative Ranking'] = data['Ranking']/data['Restaurant Count in City']"
   ]
  },
  {
   "cell_type": "code",
   "execution_count": 127,
   "metadata": {},
   "outputs": [],
   "source": [
    "data['Num of Visitors Estimate'] = data['Relative Ranking']*data['Persons per Restaurant City Index']"
   ]
  },
  {
   "cell_type": "markdown",
   "metadata": {},
   "source": [
    "### 5. Price Range\n",
    "Номинальная переменная. 17361 пропуск."
   ]
  },
  {
   "cell_type": "code",
   "execution_count": 128,
   "metadata": {},
   "outputs": [],
   "source": [
    "# сохраним информацию о пропусках чтобы не потерять\n",
    "data['Missing Price Range'] = pd.isna(data['Price Range']).astype('uint8') "
   ]
  },
  {
   "cell_type": "code",
   "execution_count": 129,
   "metadata": {},
   "outputs": [
    {
     "data": {
      "text/plain": [
       "$$ - $$$    23041\n",
       "$            7816\n",
       "$$$$         1782\n",
       "Name: Price Range, dtype: int64"
      ]
     },
     "execution_count": 129,
     "metadata": {},
     "output_type": "execute_result"
    }
   ],
   "source": [
    "# Наибольшее количество ресторанов находятся в среднем ценовом сегменте\n",
    "data['Price Range'].value_counts()"
   ]
  },
  {
   "cell_type": "code",
   "execution_count": 130,
   "metadata": {},
   "outputs": [
    {
     "data": {
      "text/html": [
       "<div>\n",
       "<style scoped>\n",
       "    .dataframe tbody tr th:only-of-type {\n",
       "        vertical-align: middle;\n",
       "    }\n",
       "\n",
       "    .dataframe tbody tr th {\n",
       "        vertical-align: top;\n",
       "    }\n",
       "\n",
       "    .dataframe thead tr th {\n",
       "        text-align: left;\n",
       "    }\n",
       "\n",
       "    .dataframe thead tr:last-of-type th {\n",
       "        text-align: right;\n",
       "    }\n",
       "</style>\n",
       "<table border=\"1\" class=\"dataframe\">\n",
       "  <thead>\n",
       "    <tr>\n",
       "      <th></th>\n",
       "      <th colspan=\"8\" halign=\"left\">Relative Ranking</th>\n",
       "      <th colspan=\"8\" halign=\"left\">Number of Reviews</th>\n",
       "    </tr>\n",
       "    <tr>\n",
       "      <th></th>\n",
       "      <th>count</th>\n",
       "      <th>mean</th>\n",
       "      <th>std</th>\n",
       "      <th>min</th>\n",
       "      <th>25%</th>\n",
       "      <th>50%</th>\n",
       "      <th>75%</th>\n",
       "      <th>max</th>\n",
       "      <th>count</th>\n",
       "      <th>mean</th>\n",
       "      <th>std</th>\n",
       "      <th>min</th>\n",
       "      <th>25%</th>\n",
       "      <th>50%</th>\n",
       "      <th>75%</th>\n",
       "      <th>max</th>\n",
       "    </tr>\n",
       "    <tr>\n",
       "      <th>Price Range</th>\n",
       "      <th></th>\n",
       "      <th></th>\n",
       "      <th></th>\n",
       "      <th></th>\n",
       "      <th></th>\n",
       "      <th></th>\n",
       "      <th></th>\n",
       "      <th></th>\n",
       "      <th></th>\n",
       "      <th></th>\n",
       "      <th></th>\n",
       "      <th></th>\n",
       "      <th></th>\n",
       "      <th></th>\n",
       "      <th></th>\n",
       "      <th></th>\n",
       "    </tr>\n",
       "  </thead>\n",
       "  <tbody>\n",
       "    <tr>\n",
       "      <td>$</td>\n",
       "      <td>7816.0</td>\n",
       "      <td>0.428793</td>\n",
       "      <td>0.252293</td>\n",
       "      <td>0.000225</td>\n",
       "      <td>0.229325</td>\n",
       "      <td>0.396436</td>\n",
       "      <td>0.616876</td>\n",
       "      <td>1.245243</td>\n",
       "      <td>7603.0</td>\n",
       "      <td>92.887807</td>\n",
       "      <td>231.580558</td>\n",
       "      <td>2.0</td>\n",
       "      <td>15.0</td>\n",
       "      <td>33.0</td>\n",
       "      <td>81.00</td>\n",
       "      <td>6360.0</td>\n",
       "    </tr>\n",
       "    <tr>\n",
       "      <td>$$ - $$$</td>\n",
       "      <td>23041.0</td>\n",
       "      <td>0.356281</td>\n",
       "      <td>0.261524</td>\n",
       "      <td>0.000059</td>\n",
       "      <td>0.142255</td>\n",
       "      <td>0.295888</td>\n",
       "      <td>0.526519</td>\n",
       "      <td>1.266808</td>\n",
       "      <td>22762.0</td>\n",
       "      <td>187.251999</td>\n",
       "      <td>336.422557</td>\n",
       "      <td>2.0</td>\n",
       "      <td>32.0</td>\n",
       "      <td>82.0</td>\n",
       "      <td>205.00</td>\n",
       "      <td>8927.0</td>\n",
       "    </tr>\n",
       "    <tr>\n",
       "      <td>$$$$</td>\n",
       "      <td>1782.0</td>\n",
       "      <td>0.221543</td>\n",
       "      <td>0.238742</td>\n",
       "      <td>0.000100</td>\n",
       "      <td>0.047042</td>\n",
       "      <td>0.126617</td>\n",
       "      <td>0.314956</td>\n",
       "      <td>1.225793</td>\n",
       "      <td>1744.0</td>\n",
       "      <td>374.129014</td>\n",
       "      <td>608.907745</td>\n",
       "      <td>2.0</td>\n",
       "      <td>53.0</td>\n",
       "      <td>174.5</td>\n",
       "      <td>465.25</td>\n",
       "      <td>9660.0</td>\n",
       "    </tr>\n",
       "  </tbody>\n",
       "</table>\n",
       "</div>"
      ],
      "text/plain": [
       "            Relative Ranking                                          \\\n",
       "                       count      mean       std       min       25%   \n",
       "Price Range                                                            \n",
       "$                     7816.0  0.428793  0.252293  0.000225  0.229325   \n",
       "$$ - $$$             23041.0  0.356281  0.261524  0.000059  0.142255   \n",
       "$$$$                  1782.0  0.221543  0.238742  0.000100  0.047042   \n",
       "\n",
       "                                          Number of Reviews              \\\n",
       "                  50%       75%       max             count        mean   \n",
       "Price Range                                                               \n",
       "$            0.396436  0.616876  1.245243            7603.0   92.887807   \n",
       "$$ - $$$     0.295888  0.526519  1.266808           22762.0  187.251999   \n",
       "$$$$         0.126617  0.314956  1.225793            1744.0  374.129014   \n",
       "\n",
       "                                                           \n",
       "                    std  min   25%    50%     75%     max  \n",
       "Price Range                                                \n",
       "$            231.580558  2.0  15.0   33.0   81.00  6360.0  \n",
       "$$ - $$$     336.422557  2.0  32.0   82.0  205.00  8927.0  \n",
       "$$$$         608.907745  2.0  53.0  174.5  465.25  9660.0  "
      ]
     },
     "execution_count": 130,
     "metadata": {},
     "output_type": "execute_result"
    }
   ],
   "source": [
    "data.groupby('Price Range')['Relative Ranking', 'Number of Reviews'].describe()"
   ]
  },
  {
   "cell_type": "code",
   "execution_count": 131,
   "metadata": {},
   "outputs": [
    {
     "data": {
      "text/html": [
       "<div>\n",
       "<style scoped>\n",
       "    .dataframe tbody tr th:only-of-type {\n",
       "        vertical-align: middle;\n",
       "    }\n",
       "\n",
       "    .dataframe tbody tr th {\n",
       "        vertical-align: top;\n",
       "    }\n",
       "\n",
       "    .dataframe thead tr th {\n",
       "        text-align: left;\n",
       "    }\n",
       "\n",
       "    .dataframe thead tr:last-of-type th {\n",
       "        text-align: right;\n",
       "    }\n",
       "</style>\n",
       "<table border=\"1\" class=\"dataframe\">\n",
       "  <thead>\n",
       "    <tr>\n",
       "      <th></th>\n",
       "      <th colspan=\"8\" halign=\"left\">Relative Ranking</th>\n",
       "      <th colspan=\"8\" halign=\"left\">Number of Reviews</th>\n",
       "    </tr>\n",
       "    <tr>\n",
       "      <th></th>\n",
       "      <th>count</th>\n",
       "      <th>mean</th>\n",
       "      <th>std</th>\n",
       "      <th>min</th>\n",
       "      <th>25%</th>\n",
       "      <th>50%</th>\n",
       "      <th>75%</th>\n",
       "      <th>max</th>\n",
       "      <th>count</th>\n",
       "      <th>mean</th>\n",
       "      <th>std</th>\n",
       "      <th>min</th>\n",
       "      <th>25%</th>\n",
       "      <th>50%</th>\n",
       "      <th>75%</th>\n",
       "      <th>max</th>\n",
       "    </tr>\n",
       "    <tr>\n",
       "      <th>Missing Price Range</th>\n",
       "      <th></th>\n",
       "      <th></th>\n",
       "      <th></th>\n",
       "      <th></th>\n",
       "      <th></th>\n",
       "      <th></th>\n",
       "      <th></th>\n",
       "      <th></th>\n",
       "      <th></th>\n",
       "      <th></th>\n",
       "      <th></th>\n",
       "      <th></th>\n",
       "      <th></th>\n",
       "      <th></th>\n",
       "      <th></th>\n",
       "      <th></th>\n",
       "    </tr>\n",
       "  </thead>\n",
       "  <tbody>\n",
       "    <tr>\n",
       "      <td>0</td>\n",
       "      <td>32639.0</td>\n",
       "      <td>0.366289</td>\n",
       "      <td>0.262266</td>\n",
       "      <td>0.000059</td>\n",
       "      <td>0.148839</td>\n",
       "      <td>0.312950</td>\n",
       "      <td>0.546095</td>\n",
       "      <td>1.266808</td>\n",
       "      <td>32109.0</td>\n",
       "      <td>175.057990</td>\n",
       "      <td>341.926575</td>\n",
       "      <td>2.0</td>\n",
       "      <td>26.0</td>\n",
       "      <td>68.0</td>\n",
       "      <td>183.0</td>\n",
       "      <td>9660.0</td>\n",
       "    </tr>\n",
       "    <tr>\n",
       "      <td>1</td>\n",
       "      <td>17361.0</td>\n",
       "      <td>0.633206</td>\n",
       "      <td>0.198795</td>\n",
       "      <td>0.001743</td>\n",
       "      <td>0.494111</td>\n",
       "      <td>0.638349</td>\n",
       "      <td>0.783067</td>\n",
       "      <td>1.271036</td>\n",
       "      <td>14691.0</td>\n",
       "      <td>13.907494</td>\n",
       "      <td>47.138990</td>\n",
       "      <td>2.0</td>\n",
       "      <td>4.0</td>\n",
       "      <td>7.0</td>\n",
       "      <td>14.0</td>\n",
       "      <td>3426.0</td>\n",
       "    </tr>\n",
       "  </tbody>\n",
       "</table>\n",
       "</div>"
      ],
      "text/plain": [
       "                    Relative Ranking                                          \\\n",
       "                               count      mean       std       min       25%   \n",
       "Missing Price Range                                                            \n",
       "0                            32639.0  0.366289  0.262266  0.000059  0.148839   \n",
       "1                            17361.0  0.633206  0.198795  0.001743  0.494111   \n",
       "\n",
       "                                                  Number of Reviews  \\\n",
       "                          50%       75%       max             count   \n",
       "Missing Price Range                                                   \n",
       "0                    0.312950  0.546095  1.266808           32109.0   \n",
       "1                    0.638349  0.783067  1.271036           14691.0   \n",
       "\n",
       "                                                                             \n",
       "                           mean         std  min   25%   50%    75%     max  \n",
       "Missing Price Range                                                          \n",
       "0                    175.057990  341.926575  2.0  26.0  68.0  183.0  9660.0  \n",
       "1                     13.907494   47.138990  2.0   4.0   7.0   14.0  3426.0  "
      ]
     },
     "execution_count": 131,
     "metadata": {},
     "output_type": "execute_result"
    }
   ],
   "source": [
    "data.groupby('Missing Price Range')['Relative Ranking', 'Number of Reviews'].describe()"
   ]
  },
  {
   "cell_type": "markdown",
   "metadata": {},
   "source": [
    "Данные по рангам и количеству отзывов позволяют заподозрить, что пропущенные значения могут быть из низкого ценового сегмента."
   ]
  },
  {
   "cell_type": "code",
   "execution_count": 132,
   "metadata": {},
   "outputs": [],
   "source": [
    "# Заполним пропуски модой\n",
    "data['Price Range'] = data['Price Range'].fillna('$')"
   ]
  },
  {
   "cell_type": "code",
   "execution_count": 133,
   "metadata": {},
   "outputs": [],
   "source": [
    "# заполним значения в переменной по словарю\n",
    "price_to_num = {'$':1,'$$ - $$$':2,'$$$$':3}\n",
    "data['Price Range Num'] = data['Price Range'].apply(lambda x: price_to_num.get(x))"
   ]
  },
  {
   "cell_type": "markdown",
   "metadata": {},
   "source": [
    "### 6.Number of Reviews\t\n",
    "3200 пропусков. Количественная переменная."
   ]
  },
  {
   "cell_type": "code",
   "execution_count": 134,
   "metadata": {},
   "outputs": [],
   "source": [
    "# сохраним информацию о пропусках\n",
    "data['Missing Number of Reviews'] = pd.isna(data['Number of Reviews']).astype('uint8')"
   ]
  },
  {
   "cell_type": "code",
   "execution_count": 135,
   "metadata": {},
   "outputs": [
    {
     "data": {
      "text/plain": [
       "2.0       2403\n",
       "3.0       2042\n",
       "4.0       1707\n",
       "5.0       1471\n",
       "6.0       1258\n",
       "          ... \n",
       "5216.0       1\n",
       "1932.0       1\n",
       "1050.0       1\n",
       "1145.0       1\n",
       "1471.0       1\n",
       "Name: Number of Reviews, Length: 1573, dtype: int64"
      ]
     },
     "execution_count": 135,
     "metadata": {},
     "output_type": "execute_result"
    }
   ],
   "source": [
    "# Чаще всего отзывов два (мода)\n",
    "data['Number of Reviews'].value_counts()"
   ]
  },
  {
   "cell_type": "code",
   "execution_count": 136,
   "metadata": {},
   "outputs": [
    {
     "data": {
      "text/plain": [
       "<matplotlib.axes._subplots.AxesSubplot at 0x15282883948>"
      ]
     },
     "execution_count": 136,
     "metadata": {},
     "output_type": "execute_result"
    },
    {
     "data": {
      "image/png": "[encoded data removed]",
      "text/plain": [
       "<Figure size 720x504 with 1 Axes>"
      ]
     },
     "metadata": {
      "needs_background": "light"
     },
     "output_type": "display_data"
    }
   ],
   "source": [
    "data['Number of Reviews'].value_counts().hist(bins=100)"
   ]
  },
  {
   "cell_type": "code",
   "execution_count": 137,
   "metadata": {},
   "outputs": [
    {
     "data": {
      "text/plain": [
       "count    46800.000000\n",
       "mean       124.471197\n",
       "std        294.114345\n",
       "min          2.000000\n",
       "25%          9.000000\n",
       "50%         33.000000\n",
       "75%        115.000000\n",
       "max       9660.000000\n",
       "Name: Number of Reviews, dtype: float64"
      ]
     },
     "execution_count": 137,
     "metadata": {},
     "output_type": "execute_result"
    }
   ],
   "source": [
    "data['Number of Reviews'].describe()"
   ]
  },
  {
   "cell_type": "code",
   "execution_count": 138,
   "metadata": {},
   "outputs": [
    {
     "data": {
      "text/plain": [
       "<matplotlib.axes._subplots.AxesSubplot at 0x152810ab808>"
      ]
     },
     "execution_count": 138,
     "metadata": {},
     "output_type": "execute_result"
    },
    {
     "data": {
      "image/png": "[encoded data removed]",
      "text/plain": [
       "<Figure size 720x504 with 1 Axes>"
      ]
     },
     "metadata": {
      "needs_background": "light"
     },
     "output_type": "display_data"
    }
   ],
   "source": [
    "sns.boxplot(data['Number of Reviews'])"
   ]
  },
  {
   "cell_type": "markdown",
   "metadata": {},
   "source": [
    "С точки зрения статистики, в количестве отзывов есть выбросы. Сложно их содержательно оценить, м.б. это действительно рестораны очень высокого уровня и у них резкий отрыв в количестве довольных посетителей. "
   ]
  },
  {
   "cell_type": "markdown",
   "metadata": {},
   "source": [
    "Можно попробовать заполнить средним в зависимости от ранга ресторана и уровня цен"
   ]
  },
  {
   "cell_type": "code",
   "execution_count": 139,
   "metadata": {},
   "outputs": [
    {
     "data": {
      "text/html": [
       "<div>\n",
       "<style scoped>\n",
       "    .dataframe tbody tr th:only-of-type {\n",
       "        vertical-align: middle;\n",
       "    }\n",
       "\n",
       "    .dataframe tbody tr th {\n",
       "        vertical-align: top;\n",
       "    }\n",
       "\n",
       "    .dataframe thead th {\n",
       "        text-align: right;\n",
       "    }\n",
       "</style>\n",
       "<table border=\"1\" class=\"dataframe\">\n",
       "  <thead>\n",
       "    <tr style=\"text-align: right;\">\n",
       "      <th></th>\n",
       "      <th>Price Range Num</th>\n",
       "      <th>Relative Ranking</th>\n",
       "    </tr>\n",
       "    <tr>\n",
       "      <th>Missing Number of Reviews</th>\n",
       "      <th></th>\n",
       "      <th></th>\n",
       "    </tr>\n",
       "  </thead>\n",
       "  <tbody>\n",
       "    <tr>\n",
       "      <td>0</td>\n",
       "      <td>2</td>\n",
       "      <td>0.424675</td>\n",
       "    </tr>\n",
       "    <tr>\n",
       "      <td>1</td>\n",
       "      <td>1</td>\n",
       "      <td>0.669119</td>\n",
       "    </tr>\n",
       "  </tbody>\n",
       "</table>\n",
       "</div>"
      ],
      "text/plain": [
       "                           Price Range Num  Relative Ranking\n",
       "Missing Number of Reviews                                   \n",
       "0                                        2          0.424675\n",
       "1                                        1          0.669119"
      ]
     },
     "execution_count": 139,
     "metadata": {},
     "output_type": "execute_result"
    }
   ],
   "source": [
    "# Картина характерная для низкого ценового уровня\n",
    "data.groupby('Missing Number of Reviews')['Price Range Num','Relative Ranking'].median()"
   ]
  },
  {
   "cell_type": "code",
   "execution_count": 140,
   "metadata": {},
   "outputs": [
    {
     "data": {
      "text/html": [
       "<div>\n",
       "<style scoped>\n",
       "    .dataframe tbody tr th:only-of-type {\n",
       "        vertical-align: middle;\n",
       "    }\n",
       "\n",
       "    .dataframe tbody tr th {\n",
       "        vertical-align: top;\n",
       "    }\n",
       "\n",
       "    .dataframe thead th {\n",
       "        text-align: right;\n",
       "    }\n",
       "</style>\n",
       "<table border=\"1\" class=\"dataframe\">\n",
       "  <thead>\n",
       "    <tr style=\"text-align: right;\">\n",
       "      <th></th>\n",
       "      <th>Price Range Num</th>\n",
       "      <th>Relative Ranking</th>\n",
       "    </tr>\n",
       "    <tr>\n",
       "      <th>Missing Number of Reviews</th>\n",
       "      <th></th>\n",
       "      <th></th>\n",
       "    </tr>\n",
       "  </thead>\n",
       "  <tbody>\n",
       "    <tr>\n",
       "      <td>0</td>\n",
       "      <td>1.560897</td>\n",
       "      <td>0.444163</td>\n",
       "    </tr>\n",
       "    <tr>\n",
       "      <td>1</td>\n",
       "      <td>1.110937</td>\n",
       "      <td>0.675499</td>\n",
       "    </tr>\n",
       "  </tbody>\n",
       "</table>\n",
       "</div>"
      ],
      "text/plain": [
       "                           Price Range Num  Relative Ranking\n",
       "Missing Number of Reviews                                   \n",
       "0                                 1.560897          0.444163\n",
       "1                                 1.110937          0.675499"
      ]
     },
     "execution_count": 140,
     "metadata": {},
     "output_type": "execute_result"
    }
   ],
   "source": [
    "data.groupby('Missing Number of Reviews')['Price Range Num','Relative Ranking'].mean()"
   ]
  },
  {
   "cell_type": "code",
   "execution_count": 141,
   "metadata": {},
   "outputs": [
    {
     "data": {
      "text/plain": [
       "11.0"
      ]
     },
     "execution_count": 141,
     "metadata": {},
     "output_type": "execute_result"
    }
   ],
   "source": [
    "# Заполним пропуски медианой для низкого ценового уровня\n",
    "data[data['Price Range Num'] == 1]['Number of Reviews'].median()"
   ]
  },
  {
   "cell_type": "code",
   "execution_count": 142,
   "metadata": {},
   "outputs": [],
   "source": [
    "data['Number of Reviews'] = data['Number of Reviews'].fillna(11)"
   ]
  },
  {
   "cell_type": "markdown",
   "metadata": {},
   "source": [
    "### 7. Reviews\n",
    "2 пропуска и 8112 пустых значений. Содержит тексты двух последних отзывов и даты этих отзывов. Формат данных - строка"
   ]
  },
  {
   "cell_type": "code",
   "execution_count": 143,
   "metadata": {},
   "outputs": [
    {
     "data": {
      "text/plain": [
       "2"
      ]
     },
     "execution_count": 143,
     "metadata": {},
     "output_type": "execute_result"
    }
   ],
   "source": [
    "# Количество пропусков\n",
    "data.Reviews.isna().sum()"
   ]
  },
  {
   "cell_type": "code",
   "execution_count": 144,
   "metadata": {},
   "outputs": [
    {
     "data": {
      "text/plain": [
       "8112"
      ]
     },
     "execution_count": 144,
     "metadata": {},
     "output_type": "execute_result"
    }
   ],
   "source": [
    "# Количество строчек с незаполненными данными - то есть, это тоже пропуски\n",
    "len(data[data.Reviews == '[[], []]'])"
   ]
  },
  {
   "cell_type": "code",
   "execution_count": 145,
   "metadata": {},
   "outputs": [],
   "source": [
    "# Заполним два пропуска другим типом пустого значения, чтобы пустые значения выглядели одинаково\n",
    "data.Reviews = data.Reviews.fillna('[[], []]')"
   ]
  },
  {
   "cell_type": "code",
   "execution_count": 146,
   "metadata": {},
   "outputs": [],
   "source": [
    "# Зафиксируем информацию об отсутствии текста отзыва в отдельной колонке\n",
    "data['Missing Reviews'] = data['Reviews'].apply(lambda x: 1 if x == '[[], []]' else 0)"
   ]
  },
  {
   "cell_type": "markdown",
   "metadata": {},
   "source": [
    "> Извлекаем информацию о времени"
   ]
  },
  {
   "cell_type": "code",
   "execution_count": 147,
   "metadata": {},
   "outputs": [],
   "source": [
    "# вытаскиваем в отдельную колонку даты. Пока что это список и строковый формат данных. \n",
    "data['Review Date'] = data['Reviews'].str.findall(r'\\d+/\\d+/\\d+').to_list()"
   ]
  },
  {
   "cell_type": "code",
   "execution_count": 148,
   "metadata": {},
   "outputs": [],
   "source": [
    "# Проверим, во всех ли строчках содержится по два значения даты. Для этого сделаем вспомогательный столбец\n",
    "data['Num of Dates'] = data['Review Date'].apply(lambda x: len(x))"
   ]
  },
  {
   "cell_type": "code",
   "execution_count": 149,
   "metadata": {},
   "outputs": [
    {
     "data": {
      "text/plain": [
       "2    36202\n",
       "0     8114\n",
       "1     5680\n",
       "3        4\n",
       "Name: Num of Dates, dtype: int64"
      ]
     },
     "execution_count": 149,
     "metadata": {},
     "output_type": "execute_result"
    }
   ],
   "source": [
    "# Есть ситуация, когда три или одна дата\n",
    "data['Num of Dates'].value_counts()"
   ]
  },
  {
   "cell_type": "code",
   "execution_count": 150,
   "metadata": {
    "scrolled": true
   },
   "outputs": [
    {
     "data": {
      "text/html": [
       "<div>\n",
       "<style scoped>\n",
       "    .dataframe tbody tr th:only-of-type {\n",
       "        vertical-align: middle;\n",
       "    }\n",
       "\n",
       "    .dataframe tbody tr th {\n",
       "        vertical-align: top;\n",
       "    }\n",
       "\n",
       "    .dataframe thead th {\n",
       "        text-align: right;\n",
       "    }\n",
       "</style>\n",
       "<table border=\"1\" class=\"dataframe\">\n",
       "  <thead>\n",
       "    <tr style=\"text-align: right;\">\n",
       "      <th></th>\n",
       "      <th>Review Date</th>\n",
       "      <th>Reviews</th>\n",
       "    </tr>\n",
       "  </thead>\n",
       "  <tbody>\n",
       "    <tr>\n",
       "      <td>2221</td>\n",
       "      <td>[21/10/17, 12/22/2017, 10/19/2017]</td>\n",
       "      <td>[['We visited 21/10/17', 'Best Kebab in London...</td>\n",
       "    </tr>\n",
       "    <tr>\n",
       "      <td>3809</td>\n",
       "      <td>[30/5/2017, 04/13/2017, 05/30/2017]</td>\n",
       "      <td>[['Good Museum Cafeteria', 'Lunch 30/5/2017'],...</td>\n",
       "    </tr>\n",
       "    <tr>\n",
       "      <td>19254</td>\n",
       "      <td>[3/1/2017, 06/02/2017, 01/03/2017]</td>\n",
       "      <td>[['The desserts arcade !', 'Visit today 3/1/20...</td>\n",
       "    </tr>\n",
       "    <tr>\n",
       "      <td>33348</td>\n",
       "      <td>[29/9/2016, 09/30/2016, 08/25/2016]</td>\n",
       "      <td>[['lunch 29/9/2016', 'Unplanned Great Dinner']...</td>\n",
       "    </tr>\n",
       "  </tbody>\n",
       "</table>\n",
       "</div>"
      ],
      "text/plain": [
       "                               Review Date  \\\n",
       "2221    [21/10/17, 12/22/2017, 10/19/2017]   \n",
       "3809   [30/5/2017, 04/13/2017, 05/30/2017]   \n",
       "19254   [3/1/2017, 06/02/2017, 01/03/2017]   \n",
       "33348  [29/9/2016, 09/30/2016, 08/25/2016]   \n",
       "\n",
       "                                                 Reviews  \n",
       "2221   [['We visited 21/10/17', 'Best Kebab in London...  \n",
       "3809   [['Good Museum Cafeteria', 'Lunch 30/5/2017'],...  \n",
       "19254  [['The desserts arcade !', 'Visit today 3/1/20...  \n",
       "33348  [['lunch 29/9/2016', 'Unplanned Great Dinner']...  "
      ]
     },
     "execution_count": 150,
     "metadata": {},
     "output_type": "execute_result"
    }
   ],
   "source": [
    "# Посмотрим на отзывы с тремя датами\n",
    "data[data['Num of Dates'] == 3][['Review Date','Reviews']]"
   ]
  },
  {
   "cell_type": "markdown",
   "metadata": {},
   "source": [
    "Попали даты из текстов отзывов. Причем даты из отзывов написаны в формате день-месяц-год. Рестораны европейские, \n",
    "мб и посетители европейцы. А сам сайт американский, так что внутри даты в другом формате - месяц-день-год."
   ]
  },
  {
   "cell_type": "code",
   "execution_count": 151,
   "metadata": {},
   "outputs": [],
   "source": [
    "# Создаем отдельный признак с датами формата datetime\n",
    "data['Review Date DT'] = data['Review Date'].apply(lambda x: pd.to_datetime(x))"
   ]
  },
  {
   "cell_type": "code",
   "execution_count": 152,
   "metadata": {},
   "outputs": [
    {
     "data": {
      "text/plain": [
       "2221     DatetimeIndex(['2017-10-21', '2017-12-22', '20...\n",
       "3809     DatetimeIndex(['2017-05-30', '2017-04-13', '20...\n",
       "19254    DatetimeIndex(['2017-03-01', '2017-06-02', '20...\n",
       "33348    DatetimeIndex(['2016-09-29', '2016-09-30', '20...\n",
       "Name: Review Date DT, dtype: object"
      ]
     },
     "execution_count": 152,
     "metadata": {},
     "output_type": "execute_result"
    }
   ],
   "source": [
    "# Каким-то чудесным образом компьютер все правильно обработал\n",
    "data[data['Num of Dates'] == 3]['Review Date DT']"
   ]
  },
  {
   "cell_type": "code",
   "execution_count": 153,
   "metadata": {},
   "outputs": [
    {
     "data": {
      "text/plain": [
       "DatetimeIndex(['2017-05-30', '2017-04-13', '2017-05-30'], dtype='datetime64[ns]', freq=None)"
      ]
     },
     "execution_count": 153,
     "metadata": {},
     "output_type": "execute_result"
    }
   ],
   "source": [
    "data['Review Date DT'].loc[3809]"
   ]
  },
  {
   "cell_type": "code",
   "execution_count": 154,
   "metadata": {},
   "outputs": [
    {
     "data": {
      "text/plain": [
       "DatetimeIndex(['2017-03-01', '2017-06-02', '2017-01-03'], dtype='datetime64[ns]', freq=None)"
      ]
     },
     "execution_count": 154,
     "metadata": {},
     "output_type": "execute_result"
    }
   ],
   "source": [
    "# там, где ситуация неочевидная, он все-таки перепутал\n",
    "data['Review Date DT'].loc[19254]"
   ]
  },
  {
   "cell_type": "code",
   "execution_count": 155,
   "metadata": {},
   "outputs": [],
   "source": [
    "# Заморачиваться не буду, исправлю вручную. Поскольку дата дублируется, просто уберу ее\n",
    "data['Review Date'].loc[19254] = data['Review Date'].loc[19254][1:]"
   ]
  },
  {
   "cell_type": "code",
   "execution_count": 156,
   "metadata": {},
   "outputs": [],
   "source": [
    "# Задаем текущую дату\n",
    "current_date = pd.datetime.now()"
   ]
  },
  {
   "cell_type": "code",
   "execution_count": 157,
   "metadata": {},
   "outputs": [
    {
     "data": {
      "text/plain": [
       "0    4504\n",
       "1    1176\n",
       "Name: Missing Number of Reviews, dtype: int64"
      ]
     },
     "execution_count": 157,
     "metadata": {},
     "output_type": "execute_result"
    }
   ],
   "source": [
    "# Посмотрим на ситуацию, когда только одна дата отзыва\n",
    "data[data['Num of Dates'] == 1]['Missing Number of Reviews'].value_counts()"
   ]
  },
  {
   "cell_type": "code",
   "execution_count": 158,
   "metadata": {},
   "outputs": [],
   "source": [
    "# Создадим колонки с датой первого и последнего отзыва\n",
    "# Если дата одна, будем считать, что это дата и первого, и последнего отзыва\n",
    "data['First Review Date'] = data['Review Date DT'].apply(lambda x: x.min())\n",
    "data['Last Review Date'] = data['Review Date DT'].apply(lambda x: x.max())"
   ]
  },
  {
   "cell_type": "code",
   "execution_count": 159,
   "metadata": {},
   "outputs": [],
   "source": [
    "# Создадим числовые колонки на основе признаков со временем\n",
    "# Количество дней после последнего и первого отзыва, временной промежуток между отзывами в днях\n",
    "data['Days from Last Review'] = (current_date - data['Last Review Date']).dt.days \n",
    "data['Days from First Review'] = (current_date - data['First Review Date']).dt.days\n",
    "data['Days between Reviews'] = (data['Last Review Date'] - data['First Review Date']).dt.days"
   ]
  },
  {
   "cell_type": "code",
   "execution_count": 160,
   "metadata": {},
   "outputs": [
    {
     "data": {
      "text/plain": [
       "count    41886.000000\n",
       "mean      1277.045361\n",
       "std        363.252094\n",
       "min        987.000000\n",
       "25%       1066.000000\n",
       "50%       1140.000000\n",
       "75%       1324.000000\n",
       "max       6046.000000\n",
       "Name: Days from Last Review, dtype: float64"
      ]
     },
     "execution_count": 160,
     "metadata": {},
     "output_type": "execute_result"
    }
   ],
   "source": [
    "data['Days from Last Review'].describe()"
   ]
  },
  {
   "cell_type": "code",
   "execution_count": 161,
   "metadata": {},
   "outputs": [
    {
     "data": {
      "text/plain": [
       "count    41886.000000\n",
       "mean       123.218331\n",
       "std        212.592518\n",
       "min          0.000000\n",
       "25%          8.000000\n",
       "50%         49.000000\n",
       "75%        148.000000\n",
       "max       3296.000000\n",
       "Name: Days between Reviews, dtype: float64"
      ]
     },
     "execution_count": 161,
     "metadata": {},
     "output_type": "execute_result"
    }
   ],
   "source": [
    "data['Days between Reviews'].describe()"
   ]
  },
  {
   "cell_type": "code",
   "execution_count": 162,
   "metadata": {},
   "outputs": [
    {
     "data": {
      "text/plain": [
       "<matplotlib.axes._subplots.AxesSubplot at 0x15282819f08>"
      ]
     },
     "execution_count": 162,
     "metadata": {},
     "output_type": "execute_result"
    },
    {
     "data": {
      "image/png": "[encoded data removed]",
      "text/plain": [
       "<Figure size 720x504 with 1 Axes>"
      ]
     },
     "metadata": {
      "needs_background": "light"
     },
     "output_type": "display_data"
    }
   ],
   "source": [
    "sns.boxplot(data['Days from Last Review'])"
   ]
  },
  {
   "cell_type": "code",
   "execution_count": 163,
   "metadata": {},
   "outputs": [
    {
     "data": {
      "text/plain": [
       "<matplotlib.axes._subplots.AxesSubplot at 0x1528412e6c8>"
      ]
     },
     "execution_count": 163,
     "metadata": {},
     "output_type": "execute_result"
    },
    {
     "data": {
      "image/png": "[encoded data removed]",
      "text/plain": [
       "<Figure size 720x504 with 1 Axes>"
      ]
     },
     "metadata": {
      "needs_background": "light"
     },
     "output_type": "display_data"
    }
   ],
   "source": [
    "sns.boxplot(data['Days between Reviews'])"
   ]
  },
  {
   "cell_type": "code",
   "execution_count": 164,
   "metadata": {},
   "outputs": [],
   "source": [
    "# Пропуски заполним нулем\n",
    "data['Days from Last Review'] = data['Days from Last Review'].fillna(0)\n"
   ]
  },
  {
   "cell_type": "code",
   "execution_count": 165,
   "metadata": {},
   "outputs": [],
   "source": [
    "data['Days from First Review'] = data['Days from First Review'].fillna(0)\n"
   ]
  },
  {
   "cell_type": "code",
   "execution_count": 166,
   "metadata": {},
   "outputs": [],
   "source": [
    "# Наверное, для удобства сразу надо делать именно такой расчет\n",
    "data['Days between Reviews'] = data['Days from Last Review'] - data['Days from First Review']"
   ]
  },
  {
   "cell_type": "code",
   "execution_count": 167,
   "metadata": {},
   "outputs": [],
   "source": [
    "# Удалим ненужные переменные\n",
    "data.drop(['Review Date', 'Review Date DT', 'First Review Date', 'Last Review Date', 'Num of Dates'], axis = 1, inplace=True)"
   ]
  },
  {
   "cell_type": "code",
   "execution_count": 168,
   "metadata": {},
   "outputs": [],
   "source": [
    "data.drop(['Reviews'], axis = 1, inplace=True)"
   ]
  },
  {
   "cell_type": "markdown",
   "metadata": {},
   "source": [
    "### 8. URL_TA\n",
    "Ссылка на страницу ресторана на 'www.tripadvisor.com'\n"
   ]
  },
  {
   "cell_type": "code",
   "execution_count": 169,
   "metadata": {},
   "outputs": [
    {
     "data": {
      "text/plain": [
       "'/Restaurant_Review-g187147-d10746918-Reviews-Le_Perchoir-Paris_Ile_de_France.html'"
      ]
     },
     "execution_count": 169,
     "metadata": {},
     "output_type": "execute_result"
    }
   ],
   "source": [
    "# Посмотрим, как выглядят данные\n",
    "data['URL_TA'][0]"
   ]
  },
  {
   "cell_type": "markdown",
   "metadata": {},
   "source": [
    "Можно вытащить название региона, города и ресторана, идентификатор ресторана. У нас уже есть несколько колонок с этой информацией. \n",
    "Этот столбец может понадобиться, если надо будет собрать дополнительную информацию с сайта Tripadvisor. Пока что я предлагаю этот столбец удалить. "
   ]
  },
  {
   "cell_type": "code",
   "execution_count": 170,
   "metadata": {},
   "outputs": [],
   "source": [
    "data.drop(['URL_TA'], axis = 1, inplace=True)"
   ]
  },
  {
   "cell_type": "markdown",
   "metadata": {},
   "source": [
    "### 9. ID_TA\n",
    "Идентификатор ресторана на сайте Tripadvisor. Никакой дополнительной информации не несет. Можно смело удалять. "
   ]
  },
  {
   "cell_type": "code",
   "execution_count": 171,
   "metadata": {},
   "outputs": [],
   "source": [
    "data.drop(['ID_TA'], axis = 1, inplace=True)"
   ]
  },
  {
   "cell_type": "markdown",
   "metadata": {},
   "source": [
    "## Матрица корреляций"
   ]
  },
  {
   "cell_type": "code",
   "execution_count": 172,
   "metadata": {},
   "outputs": [
    {
     "data": {
      "text/plain": [
       "(20.0, 0.0)"
      ]
     },
     "execution_count": 172,
     "metadata": {},
     "output_type": "execute_result"
    },
    {
     "data": {
      "image/png": "[encoded data removed]",
      "text/plain": [
       "<Figure size 1080x720 with 2 Axes>"
      ]
     },
     "metadata": {
      "needs_background": "light"
     },
     "output_type": "display_data"
    }
   ],
   "source": [
    "plt.rcParams['figure.figsize'] = (15,10)\n",
    "ax = sns.heatmap(data.drop(['sample'], axis=1).corr(), annot = True, cmap = 'viridis')\n",
    "i, k = ax.get_ylim()\n",
    "ax.set_ylim(i+0.5, k-0.5)"
   ]
  },
  {
   "cell_type": "code",
   "execution_count": 173,
   "metadata": {},
   "outputs": [],
   "source": [
    "# Удалим переменные с высокой корреляцией\n",
    "#data.drop(['Days from First Review', 'City Count in Data', 'Missing Cuisine Style'], axis = 1, inplace=True)"
   ]
  },
  {
   "cell_type": "markdown",
   "metadata": {},
   "source": [
    "# Дополнительная обработка данных"
   ]
  },
  {
   "cell_type": "code",
   "execution_count": 174,
   "metadata": {},
   "outputs": [],
   "source": [
    "# Создадим dummy-переменные \n",
    "data = pd.get_dummies(data, columns=['City'], dummy_na=True)\n",
    "#data.drop(['City'], axis = 1, inplace=True)"
   ]
  },
  {
   "cell_type": "code",
   "execution_count": 175,
   "metadata": {},
   "outputs": [],
   "source": [
    "#Создаем dummy-переменные для типов кухонь\n",
    "cuisine_style_dummy = data['Cuisine Style List'].apply(lambda x: pd.Series([1] * len(x), index=x)).fillna(0, downcast='infer')\n",
    "\n",
    "data = pd.merge(data, cuisine_style_dummy, left_index=True, right_index=True, how='left')"
   ]
  },
  {
   "cell_type": "code",
   "execution_count": 176,
   "metadata": {},
   "outputs": [],
   "source": [
    "# удаляем номинальные признаки\n",
    "data.drop(['Cuisine Style','Cuisine Style List',], axis = 1, inplace=True)"
   ]
  },
  {
   "cell_type": "code",
   "execution_count": 177,
   "metadata": {},
   "outputs": [],
   "source": [
    "# Удалим данные по цене в номинальной шкале\n",
    "data.drop(['Price Range'], axis = 1, inplace=True)"
   ]
  },
  {
   "cell_type": "code",
   "execution_count": 178,
   "metadata": {},
   "outputs": [
    {
     "name": "stdout",
     "output_type": "stream",
     "text": [
      "<class 'pandas.core.frame.DataFrame'>\n",
      "RangeIndex: 50000 entries, 0 to 49999\n",
      "Columns: 179 entries, Ranking to Latvian\n",
      "dtypes: float64(9), int64(135), uint8(35)\n",
      "memory usage: 56.6 MB\n"
     ]
    }
   ],
   "source": [
    "data.info()"
   ]
  },
  {
   "cell_type": "code",
   "execution_count": 179,
   "metadata": {},
   "outputs": [],
   "source": [
    "# Теперь выделим тестовую часть\n",
    "train_data = data.query('sample == 1').drop(['sample'], axis=1)\n",
    "test_data = data.query('sample == 0').drop(['sample'], axis=1)\n",
    "\n",
    "y = train_data.Rating.values            # наш таргет\n",
    "X = train_data.drop(['Rating'], axis=1)"
   ]
  },
  {
   "cell_type": "markdown",
   "metadata": {},
   "source": [
    "**Перед тем как отправлять наши данные на обучение, разделим данные на еще один тест и трейн, для валидации. \n",
    "Это поможет нам проверить, как хорошо наша модель работает, до отправки submissiona на kaggle.**"
   ]
  },
  {
   "cell_type": "code",
   "execution_count": 180,
   "metadata": {},
   "outputs": [],
   "source": [
    "# Воспользуемся специальной функцие train_test_split для разбивки тестовых данных\n",
    "# выделим 20% данных на валидацию (параметр test_size)\n",
    "X_train, X_test, y_train, y_test = train_test_split(X, y, test_size=0.2, random_state=RANDOM_SEED)"
   ]
  },
  {
   "cell_type": "code",
   "execution_count": 181,
   "metadata": {},
   "outputs": [
    {
     "data": {
      "text/plain": [
       "((10000, 178), (40000, 178), (40000, 177), (32000, 177), (8000, 177))"
      ]
     },
     "execution_count": 181,
     "metadata": {},
     "output_type": "execute_result"
    }
   ],
   "source": [
    "# проверяем\n",
    "test_data.shape, train_data.shape, X.shape, X_train.shape, X_test.shape"
   ]
  },
  {
   "cell_type": "markdown",
   "metadata": {},
   "source": [
    "# Построение модели\n",
    "Сам ML"
   ]
  },
  {
   "cell_type": "code",
   "execution_count": 182,
   "metadata": {},
   "outputs": [],
   "source": [
    "# Импортируем необходимые библиотеки:\n",
    "from sklearn.ensemble import RandomForestRegressor # инструмент для создания и обучения модели\n",
    "from sklearn import metrics # инструменты для оценки точности модели"
   ]
  },
  {
   "cell_type": "code",
   "execution_count": 183,
   "metadata": {},
   "outputs": [],
   "source": [
    "# Создаём модель (НАСТРОЙКИ НЕ ТРОГАЕМ)\n",
    "model = RandomForestRegressor(n_estimators=100, verbose=1, n_jobs=-1, random_state=RANDOM_SEED)"
   ]
  },
  {
   "cell_type": "code",
   "execution_count": 184,
   "metadata": {},
   "outputs": [
    {
     "name": "stderr",
     "output_type": "stream",
     "text": [
      "[Parallel(n_jobs=-1)]: Using backend ThreadingBackend with 4 concurrent workers.\n",
      "[Parallel(n_jobs=-1)]: Done  42 tasks      | elapsed:   23.6s\n",
      "[Parallel(n_jobs=-1)]: Done 100 out of 100 | elapsed:   48.8s finished\n",
      "[Parallel(n_jobs=4)]: Using backend ThreadingBackend with 4 concurrent workers.\n",
      "[Parallel(n_jobs=4)]: Done  42 tasks      | elapsed:    0.0s\n",
      "[Parallel(n_jobs=4)]: Done 100 out of 100 | elapsed:    0.0s finished\n"
     ]
    }
   ],
   "source": [
    "# Обучаем модель на тестовом наборе данных\n",
    "model.fit(X_train, y_train)\n",
    "\n",
    "# Используем обученную модель для предсказания рейтинга ресторанов в тестовой выборке.\n",
    "# Предсказанные значения записываем в переменную y_pred\n",
    "y_pred = model.predict(X_test)"
   ]
  },
  {
   "cell_type": "code",
   "execution_count": 185,
   "metadata": {},
   "outputs": [
    {
     "name": "stdout",
     "output_type": "stream",
     "text": [
      "MAE: 0.20170687499999998\n"
     ]
    }
   ],
   "source": [
    "# Сравниваем предсказанные значения (y_pred) с реальными (y_test), и смотрим насколько они в среднем отличаются\n",
    "# Метрика называется Mean Absolute Error (MAE) и показывает среднее отклонение предсказанных значений от фактических.\n",
    "print('MAE:', metrics.mean_absolute_error(y_test, y_pred))"
   ]
  },
  {
   "cell_type": "code",
   "execution_count": 186,
   "metadata": {},
   "outputs": [
    {
     "data": {
      "text/plain": [
       "<matplotlib.axes._subplots.AxesSubplot at 0x152ff890a08>"
      ]
     },
     "execution_count": 186,
     "metadata": {},
     "output_type": "execute_result"
    },
    {
     "data": {
      "image/png": "[encoded data removed]",
      "text/plain": [
       "<Figure size 720x720 with 1 Axes>"
      ]
     },
     "metadata": {
      "needs_background": "light"
     },
     "output_type": "display_data"
    }
   ],
   "source": [
    "# в RandomForestRegressor есть возможность вывести самые важные признаки для модели\n",
    "plt.rcParams['figure.figsize'] = (10,10)\n",
    "feat_importances = pd.Series(model.feature_importances_, index=X.columns)\n",
    "feat_importances.nlargest(15).plot(kind='barh')"
   ]
  },
  {
   "cell_type": "markdown",
   "metadata": {},
   "source": [
    "# Submission\n",
    "Готовим Submission на кагл"
   ]
  },
  {
   "cell_type": "code",
   "execution_count": 187,
   "metadata": {},
   "outputs": [
    {
     "data": {
      "text/html": [
       "<div>\n",
       "<style scoped>\n",
       "    .dataframe tbody tr th:only-of-type {\n",
       "        vertical-align: middle;\n",
       "    }\n",
       "\n",
       "    .dataframe tbody tr th {\n",
       "        vertical-align: top;\n",
       "    }\n",
       "\n",
       "    .dataframe thead th {\n",
       "        text-align: right;\n",
       "    }\n",
       "</style>\n",
       "<table border=\"1\" class=\"dataframe\">\n",
       "  <thead>\n",
       "    <tr style=\"text-align: right;\">\n",
       "      <th></th>\n",
       "      <th>Ranking</th>\n",
       "      <th>Number of Reviews</th>\n",
       "      <th>Rating</th>\n",
       "      <th>City Count in Data</th>\n",
       "      <th>City Population</th>\n",
       "      <th>Restaurant Count in City</th>\n",
       "      <th>Persons per Restaurant City Index</th>\n",
       "      <th>Missing Cuisine Style</th>\n",
       "      <th>Cuisine Style Options</th>\n",
       "      <th>Special Diets</th>\n",
       "      <th>...</th>\n",
       "      <th>Albanian</th>\n",
       "      <th>Central Asian</th>\n",
       "      <th>Polynesian</th>\n",
       "      <th>Caucasian</th>\n",
       "      <th>Uzbek</th>\n",
       "      <th>Salvadoran</th>\n",
       "      <th>Xinjiang</th>\n",
       "      <th>Burmese</th>\n",
       "      <th>Fujian</th>\n",
       "      <th>Latvian</th>\n",
       "    </tr>\n",
       "  </thead>\n",
       "  <tbody>\n",
       "    <tr>\n",
       "      <td>5989</td>\n",
       "      <td>6235.0</td>\n",
       "      <td>6.0</td>\n",
       "      <td>0.0</td>\n",
       "      <td>3813</td>\n",
       "      <td>3223334</td>\n",
       "      <td>10019</td>\n",
       "      <td>321.722128</td>\n",
       "      <td>1</td>\n",
       "      <td>1</td>\n",
       "      <td>0</td>\n",
       "      <td>...</td>\n",
       "      <td>0</td>\n",
       "      <td>0</td>\n",
       "      <td>0</td>\n",
       "      <td>0</td>\n",
       "      <td>0</td>\n",
       "      <td>0</td>\n",
       "      <td>0</td>\n",
       "      <td>0</td>\n",
       "      <td>0</td>\n",
       "      <td>0</td>\n",
       "    </tr>\n",
       "    <tr>\n",
       "      <td>5952</td>\n",
       "      <td>10477.0</td>\n",
       "      <td>3.0</td>\n",
       "      <td>0.0</td>\n",
       "      <td>7193</td>\n",
       "      <td>8787892</td>\n",
       "      <td>16973</td>\n",
       "      <td>517.757144</td>\n",
       "      <td>0</td>\n",
       "      <td>1</td>\n",
       "      <td>0</td>\n",
       "      <td>...</td>\n",
       "      <td>0</td>\n",
       "      <td>0</td>\n",
       "      <td>0</td>\n",
       "      <td>0</td>\n",
       "      <td>0</td>\n",
       "      <td>0</td>\n",
       "      <td>0</td>\n",
       "      <td>0</td>\n",
       "      <td>0</td>\n",
       "      <td>0</td>\n",
       "    </tr>\n",
       "    <tr>\n",
       "      <td>5593</td>\n",
       "      <td>7644.0</td>\n",
       "      <td>42.0</td>\n",
       "      <td>0.0</td>\n",
       "      <td>3813</td>\n",
       "      <td>3223334</td>\n",
       "      <td>10019</td>\n",
       "      <td>321.722128</td>\n",
       "      <td>1</td>\n",
       "      <td>1</td>\n",
       "      <td>0</td>\n",
       "      <td>...</td>\n",
       "      <td>0</td>\n",
       "      <td>0</td>\n",
       "      <td>0</td>\n",
       "      <td>0</td>\n",
       "      <td>0</td>\n",
       "      <td>0</td>\n",
       "      <td>0</td>\n",
       "      <td>0</td>\n",
       "      <td>0</td>\n",
       "      <td>0</td>\n",
       "    </tr>\n",
       "    <tr>\n",
       "      <td>5411</td>\n",
       "      <td>1613.0</td>\n",
       "      <td>79.0</td>\n",
       "      <td>0.0</td>\n",
       "      <td>6108</td>\n",
       "      <td>2140526</td>\n",
       "      <td>15432</td>\n",
       "      <td>138.706973</td>\n",
       "      <td>0</td>\n",
       "      <td>4</td>\n",
       "      <td>0</td>\n",
       "      <td>...</td>\n",
       "      <td>0</td>\n",
       "      <td>0</td>\n",
       "      <td>0</td>\n",
       "      <td>0</td>\n",
       "      <td>0</td>\n",
       "      <td>0</td>\n",
       "      <td>0</td>\n",
       "      <td>0</td>\n",
       "      <td>0</td>\n",
       "      <td>0</td>\n",
       "    </tr>\n",
       "    <tr>\n",
       "      <td>3802</td>\n",
       "      <td>4062.0</td>\n",
       "      <td>32.0</td>\n",
       "      <td>0.0</td>\n",
       "      <td>2589</td>\n",
       "      <td>2872800</td>\n",
       "      <td>10109</td>\n",
       "      <td>284.182412</td>\n",
       "      <td>0</td>\n",
       "      <td>4</td>\n",
       "      <td>1</td>\n",
       "      <td>...</td>\n",
       "      <td>0</td>\n",
       "      <td>0</td>\n",
       "      <td>0</td>\n",
       "      <td>0</td>\n",
       "      <td>0</td>\n",
       "      <td>0</td>\n",
       "      <td>0</td>\n",
       "      <td>0</td>\n",
       "      <td>0</td>\n",
       "      <td>0</td>\n",
       "    </tr>\n",
       "    <tr>\n",
       "      <td>3409</td>\n",
       "      <td>599.0</td>\n",
       "      <td>94.0</td>\n",
       "      <td>0.0</td>\n",
       "      <td>1647</td>\n",
       "      <td>505526</td>\n",
       "      <td>4452</td>\n",
       "      <td>113.550314</td>\n",
       "      <td>0</td>\n",
       "      <td>4</td>\n",
       "      <td>2</td>\n",
       "      <td>...</td>\n",
       "      <td>0</td>\n",
       "      <td>0</td>\n",
       "      <td>0</td>\n",
       "      <td>0</td>\n",
       "      <td>0</td>\n",
       "      <td>0</td>\n",
       "      <td>0</td>\n",
       "      <td>0</td>\n",
       "      <td>0</td>\n",
       "      <td>0</td>\n",
       "    </tr>\n",
       "    <tr>\n",
       "      <td>2660</td>\n",
       "      <td>1863.0</td>\n",
       "      <td>11.0</td>\n",
       "      <td>0.0</td>\n",
       "      <td>1443</td>\n",
       "      <td>1840573</td>\n",
       "      <td>3744</td>\n",
       "      <td>491.606036</td>\n",
       "      <td>0</td>\n",
       "      <td>2</td>\n",
       "      <td>0</td>\n",
       "      <td>...</td>\n",
       "      <td>0</td>\n",
       "      <td>0</td>\n",
       "      <td>0</td>\n",
       "      <td>0</td>\n",
       "      <td>0</td>\n",
       "      <td>0</td>\n",
       "      <td>0</td>\n",
       "      <td>0</td>\n",
       "      <td>0</td>\n",
       "      <td>0</td>\n",
       "    </tr>\n",
       "    <tr>\n",
       "      <td>8412</td>\n",
       "      <td>2944.0</td>\n",
       "      <td>11.0</td>\n",
       "      <td>0.0</td>\n",
       "      <td>1647</td>\n",
       "      <td>505526</td>\n",
       "      <td>4452</td>\n",
       "      <td>113.550314</td>\n",
       "      <td>1</td>\n",
       "      <td>1</td>\n",
       "      <td>0</td>\n",
       "      <td>...</td>\n",
       "      <td>0</td>\n",
       "      <td>0</td>\n",
       "      <td>0</td>\n",
       "      <td>0</td>\n",
       "      <td>0</td>\n",
       "      <td>0</td>\n",
       "      <td>0</td>\n",
       "      <td>0</td>\n",
       "      <td>0</td>\n",
       "      <td>0</td>\n",
       "    </tr>\n",
       "    <tr>\n",
       "      <td>733</td>\n",
       "      <td>1136.0</td>\n",
       "      <td>95.0</td>\n",
       "      <td>0.0</td>\n",
       "      <td>1372</td>\n",
       "      <td>859732</td>\n",
       "      <td>3651</td>\n",
       "      <td>235.478499</td>\n",
       "      <td>0</td>\n",
       "      <td>8</td>\n",
       "      <td>3</td>\n",
       "      <td>...</td>\n",
       "      <td>0</td>\n",
       "      <td>0</td>\n",
       "      <td>0</td>\n",
       "      <td>0</td>\n",
       "      <td>0</td>\n",
       "      <td>0</td>\n",
       "      <td>0</td>\n",
       "      <td>0</td>\n",
       "      <td>0</td>\n",
       "      <td>0</td>\n",
       "    </tr>\n",
       "    <tr>\n",
       "      <td>9516</td>\n",
       "      <td>2712.0</td>\n",
       "      <td>11.0</td>\n",
       "      <td>0.0</td>\n",
       "      <td>1186</td>\n",
       "      <td>1830584</td>\n",
       "      <td>2881</td>\n",
       "      <td>635.398820</td>\n",
       "      <td>1</td>\n",
       "      <td>1</td>\n",
       "      <td>0</td>\n",
       "      <td>...</td>\n",
       "      <td>0</td>\n",
       "      <td>0</td>\n",
       "      <td>0</td>\n",
       "      <td>0</td>\n",
       "      <td>0</td>\n",
       "      <td>0</td>\n",
       "      <td>0</td>\n",
       "      <td>0</td>\n",
       "      <td>0</td>\n",
       "      <td>0</td>\n",
       "    </tr>\n",
       "  </tbody>\n",
       "</table>\n",
       "<p>10 rows × 178 columns</p>\n",
       "</div>"
      ],
      "text/plain": [
       "      Ranking  Number of Reviews  Rating  City Count in Data  City Population  \\\n",
       "5989   6235.0                6.0     0.0                3813          3223334   \n",
       "5952  10477.0                3.0     0.0                7193          8787892   \n",
       "5593   7644.0               42.0     0.0                3813          3223334   \n",
       "5411   1613.0               79.0     0.0                6108          2140526   \n",
       "3802   4062.0               32.0     0.0                2589          2872800   \n",
       "3409    599.0               94.0     0.0                1647           505526   \n",
       "2660   1863.0               11.0     0.0                1443          1840573   \n",
       "8412   2944.0               11.0     0.0                1647           505526   \n",
       "733    1136.0               95.0     0.0                1372           859732   \n",
       "9516   2712.0               11.0     0.0                1186          1830584   \n",
       "\n",
       "      Restaurant Count in City  Persons per Restaurant City Index  \\\n",
       "5989                     10019                         321.722128   \n",
       "5952                     16973                         517.757144   \n",
       "5593                     10019                         321.722128   \n",
       "5411                     15432                         138.706973   \n",
       "3802                     10109                         284.182412   \n",
       "3409                      4452                         113.550314   \n",
       "2660                      3744                         491.606036   \n",
       "8412                      4452                         113.550314   \n",
       "733                       3651                         235.478499   \n",
       "9516                      2881                         635.398820   \n",
       "\n",
       "      Missing Cuisine Style  Cuisine Style Options  Special Diets  ...  \\\n",
       "5989                      1                      1              0  ...   \n",
       "5952                      0                      1              0  ...   \n",
       "5593                      1                      1              0  ...   \n",
       "5411                      0                      4              0  ...   \n",
       "3802                      0                      4              1  ...   \n",
       "3409                      0                      4              2  ...   \n",
       "2660                      0                      2              0  ...   \n",
       "8412                      1                      1              0  ...   \n",
       "733                       0                      8              3  ...   \n",
       "9516                      1                      1              0  ...   \n",
       "\n",
       "      Albanian  Central Asian  Polynesian  Caucasian  Uzbek  Salvadoran  \\\n",
       "5989         0              0           0          0      0           0   \n",
       "5952         0              0           0          0      0           0   \n",
       "5593         0              0           0          0      0           0   \n",
       "5411         0              0           0          0      0           0   \n",
       "3802         0              0           0          0      0           0   \n",
       "3409         0              0           0          0      0           0   \n",
       "2660         0              0           0          0      0           0   \n",
       "8412         0              0           0          0      0           0   \n",
       "733          0              0           0          0      0           0   \n",
       "9516         0              0           0          0      0           0   \n",
       "\n",
       "      Xinjiang  Burmese  Fujian  Latvian  \n",
       "5989         0        0       0        0  \n",
       "5952         0        0       0        0  \n",
       "5593         0        0       0        0  \n",
       "5411         0        0       0        0  \n",
       "3802         0        0       0        0  \n",
       "3409         0        0       0        0  \n",
       "2660         0        0       0        0  \n",
       "8412         0        0       0        0  \n",
       "733          0        0       0        0  \n",
       "9516         0        0       0        0  \n",
       "\n",
       "[10 rows x 178 columns]"
      ]
     },
     "execution_count": 187,
     "metadata": {},
     "output_type": "execute_result"
    }
   ],
   "source": [
    "test_data.sample(10)"
   ]
  },
  {
   "cell_type": "code",
   "execution_count": 188,
   "metadata": {},
   "outputs": [],
   "source": [
    "test_data = test_data.drop(['Rating'], axis=1)"
   ]
  },
  {
   "cell_type": "code",
   "execution_count": 189,
   "metadata": {},
   "outputs": [
    {
     "data": {
      "text/html": [
       "<div>\n",
       "<style scoped>\n",
       "    .dataframe tbody tr th:only-of-type {\n",
       "        vertical-align: middle;\n",
       "    }\n",
       "\n",
       "    .dataframe tbody tr th {\n",
       "        vertical-align: top;\n",
       "    }\n",
       "\n",
       "    .dataframe thead th {\n",
       "        text-align: right;\n",
       "    }\n",
       "</style>\n",
       "<table border=\"1\" class=\"dataframe\">\n",
       "  <thead>\n",
       "    <tr style=\"text-align: right;\">\n",
       "      <th></th>\n",
       "      <th>Restaurant_id</th>\n",
       "      <th>Rating</th>\n",
       "    </tr>\n",
       "  </thead>\n",
       "  <tbody>\n",
       "    <tr>\n",
       "      <td>0</td>\n",
       "      <td>id_0</td>\n",
       "      <td>2.0</td>\n",
       "    </tr>\n",
       "    <tr>\n",
       "      <td>1</td>\n",
       "      <td>id_1</td>\n",
       "      <td>2.5</td>\n",
       "    </tr>\n",
       "    <tr>\n",
       "      <td>2</td>\n",
       "      <td>id_2</td>\n",
       "      <td>4.0</td>\n",
       "    </tr>\n",
       "    <tr>\n",
       "      <td>3</td>\n",
       "      <td>id_3</td>\n",
       "      <td>1.0</td>\n",
       "    </tr>\n",
       "    <tr>\n",
       "      <td>4</td>\n",
       "      <td>id_4</td>\n",
       "      <td>4.0</td>\n",
       "    </tr>\n",
       "    <tr>\n",
       "      <td>...</td>\n",
       "      <td>...</td>\n",
       "      <td>...</td>\n",
       "    </tr>\n",
       "    <tr>\n",
       "      <td>9995</td>\n",
       "      <td>id_9995</td>\n",
       "      <td>3.0</td>\n",
       "    </tr>\n",
       "    <tr>\n",
       "      <td>9996</td>\n",
       "      <td>id_9996</td>\n",
       "      <td>1.5</td>\n",
       "    </tr>\n",
       "    <tr>\n",
       "      <td>9997</td>\n",
       "      <td>id_9997</td>\n",
       "      <td>4.5</td>\n",
       "    </tr>\n",
       "    <tr>\n",
       "      <td>9998</td>\n",
       "      <td>id_9998</td>\n",
       "      <td>1.0</td>\n",
       "    </tr>\n",
       "    <tr>\n",
       "      <td>9999</td>\n",
       "      <td>id_9999</td>\n",
       "      <td>2.5</td>\n",
       "    </tr>\n",
       "  </tbody>\n",
       "</table>\n",
       "<p>10000 rows × 2 columns</p>\n",
       "</div>"
      ],
      "text/plain": [
       "     Restaurant_id  Rating\n",
       "0             id_0     2.0\n",
       "1             id_1     2.5\n",
       "2             id_2     4.0\n",
       "3             id_3     1.0\n",
       "4             id_4     4.0\n",
       "...            ...     ...\n",
       "9995       id_9995     3.0\n",
       "9996       id_9996     1.5\n",
       "9997       id_9997     4.5\n",
       "9998       id_9998     1.0\n",
       "9999       id_9999     2.5\n",
       "\n",
       "[10000 rows x 2 columns]"
      ]
     },
     "execution_count": 189,
     "metadata": {},
     "output_type": "execute_result"
    }
   ],
   "source": [
    "sample_submission"
   ]
  },
  {
   "cell_type": "code",
   "execution_count": 190,
   "metadata": {},
   "outputs": [
    {
     "name": "stderr",
     "output_type": "stream",
     "text": [
      "[Parallel(n_jobs=4)]: Using backend ThreadingBackend with 4 concurrent workers.\n",
      "[Parallel(n_jobs=4)]: Done  42 tasks      | elapsed:    0.0s\n",
      "[Parallel(n_jobs=4)]: Done 100 out of 100 | elapsed:    0.0s finished\n"
     ]
    }
   ],
   "source": [
    "predict_submission = model.predict(test_data)"
   ]
  },
  {
   "cell_type": "code",
   "execution_count": 191,
   "metadata": {},
   "outputs": [
    {
     "data": {
      "text/plain": [
       "array([3.085, 4.19 , 4.385, ..., 3.035, 4.445, 4.425])"
      ]
     },
     "execution_count": 191,
     "metadata": {},
     "output_type": "execute_result"
    }
   ],
   "source": [
    "predict_submission"
   ]
  },
  {
   "cell_type": "code",
   "execution_count": 192,
   "metadata": {},
   "outputs": [
    {
     "data": {
      "text/html": [
       "<div>\n",
       "<style scoped>\n",
       "    .dataframe tbody tr th:only-of-type {\n",
       "        vertical-align: middle;\n",
       "    }\n",
       "\n",
       "    .dataframe tbody tr th {\n",
       "        vertical-align: top;\n",
       "    }\n",
       "\n",
       "    .dataframe thead th {\n",
       "        text-align: right;\n",
       "    }\n",
       "</style>\n",
       "<table border=\"1\" class=\"dataframe\">\n",
       "  <thead>\n",
       "    <tr style=\"text-align: right;\">\n",
       "      <th></th>\n",
       "      <th>Restaurant_id</th>\n",
       "      <th>Rating</th>\n",
       "    </tr>\n",
       "  </thead>\n",
       "  <tbody>\n",
       "    <tr>\n",
       "      <td>0</td>\n",
       "      <td>id_0</td>\n",
       "      <td>3.085</td>\n",
       "    </tr>\n",
       "    <tr>\n",
       "      <td>1</td>\n",
       "      <td>id_1</td>\n",
       "      <td>4.190</td>\n",
       "    </tr>\n",
       "    <tr>\n",
       "      <td>2</td>\n",
       "      <td>id_2</td>\n",
       "      <td>4.385</td>\n",
       "    </tr>\n",
       "    <tr>\n",
       "      <td>3</td>\n",
       "      <td>id_3</td>\n",
       "      <td>4.355</td>\n",
       "    </tr>\n",
       "    <tr>\n",
       "      <td>4</td>\n",
       "      <td>id_4</td>\n",
       "      <td>4.480</td>\n",
       "    </tr>\n",
       "    <tr>\n",
       "      <td>5</td>\n",
       "      <td>id_5</td>\n",
       "      <td>4.425</td>\n",
       "    </tr>\n",
       "    <tr>\n",
       "      <td>6</td>\n",
       "      <td>id_6</td>\n",
       "      <td>1.495</td>\n",
       "    </tr>\n",
       "    <tr>\n",
       "      <td>7</td>\n",
       "      <td>id_7</td>\n",
       "      <td>2.875</td>\n",
       "    </tr>\n",
       "    <tr>\n",
       "      <td>8</td>\n",
       "      <td>id_8</td>\n",
       "      <td>4.075</td>\n",
       "    </tr>\n",
       "    <tr>\n",
       "      <td>9</td>\n",
       "      <td>id_9</td>\n",
       "      <td>4.695</td>\n",
       "    </tr>\n",
       "  </tbody>\n",
       "</table>\n",
       "</div>"
      ],
      "text/plain": [
       "  Restaurant_id  Rating\n",
       "0          id_0   3.085\n",
       "1          id_1   4.190\n",
       "2          id_2   4.385\n",
       "3          id_3   4.355\n",
       "4          id_4   4.480\n",
       "5          id_5   4.425\n",
       "6          id_6   1.495\n",
       "7          id_7   2.875\n",
       "8          id_8   4.075\n",
       "9          id_9   4.695"
      ]
     },
     "execution_count": 192,
     "metadata": {},
     "output_type": "execute_result"
    }
   ],
   "source": [
    "sample_submission['Rating'] = predict_submission\n",
    "sample_submission.to_csv('submission.csv', index=False)\n",
    "sample_submission.head(10)"
   ]
  },
  {
   "cell_type": "code",
   "execution_count": null,
   "metadata": {},
   "outputs": [],
   "source": []
  }
 ],
 "metadata": {
  "kernelspec": {
   "display_name": "Python 3",
   "language": "python",
   "name": "python3"
  },
  "language_info": {
   "codemirror_mode": {
    "name": "ipython",
    "version": 3
   },
   "file_extension": ".py",
   "mimetype": "text/x-python",
   "name": "python",
   "nbconvert_exporter": "python",
   "pygments_lexer": "ipython3",
   "version": "3.7.4"
  }
 },
 "nbformat": 4,
 "nbformat_minor": 1
}
